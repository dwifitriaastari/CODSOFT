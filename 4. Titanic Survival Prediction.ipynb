{
 "cells": [
  {
   "cell_type": "markdown",
   "metadata": {},
   "source": [
    "Name: Dwi Fitria Astari Lubis\n",
    "\n",
    "Titanic Dataset\n",
    "\n",
    "Build a model that predicts whether a passenger on the Titanic survived or not.\n",
    "Variable Notes\n",
    "1. pclass: A proxy for socio-economic status (SES): 1=upper; 2=Middle; 3=Lower\n",
    "2. age: Age is fractional if less than 1. If the age is estimated, is it in the form of xx.5\n",
    "3. sibsp: The dataset defines family relations in this way:Sibling = brother, sister, stepbrother, stepsister; Spouse = husband, wife (mistresses and fiancés were ignored)\n",
    "4. parch: The dataset defines family relations in this way: Parent = mother, father; Child = daughter, son, stepdaughter, stepson\n",
    "Some children travelled only with a nanny, therefore parch=0 for them.\n",
    "5. Survived: Survived or not: 0 = No, 1 = Yes\n",
    "6. Fare: Passenger fare.\n",
    "7. Passengerid : Passenger ID\n",
    "8. Name: Name of the passenger\n",
    "9. Sex : Gender\n",
    "10. Ticket: Ticket Number\n",
    "11. Cabin: Cabin Number\n",
    "12. Embark : Port of Embarkation:C = Cherbourg, Q = Queenstown, S = Southampton"
   ]
  },
  {
   "cell_type": "code",
   "execution_count": 1,
   "metadata": {},
   "outputs": [],
   "source": [
    "#Library\n",
    "\n",
    "import pandas as pd\n",
    "import numpy as np\n",
    "import seaborn as sns\n",
    "import matplotlib.pyplot as plt\n",
    "from sklearn.linear_model import LogisticRegression\n",
    "from sklearn.preprocessing import OneHotEncoder\n",
    "from sklearn.compose import ColumnTransformer\n",
    "from sklearn.pipeline import Pipeline\n",
    "from imblearn.pipeline import Pipeline\n",
    "from imblearn.over_sampling import SMOTE\n",
    "from sklearn.model_selection import train_test_split, cross_val_score\n",
    "from sklearn.metrics import mean_squared_error, accuracy_score, classification_report, confusion_matrix\n",
    "\n",
    "from sklearn.ensemble import RandomForestClassifier\n",
    "from sklearn.svm import SVC\n",
    "from sklearn.model_selection import GridSearchCV\n",
    "from sklearn.ensemble import GradientBoostingClassifier\n",
    "from sklearn.neural_network import MLPClassifier\n",
    "\n",
    "\n",
    "import streamlit as st\n",
    "from sklearn.preprocessing import StandardScaler\n",
    "import warnings\n"
   ]
  },
  {
   "cell_type": "code",
   "execution_count": 6,
   "metadata": {},
   "outputs": [],
   "source": [
    "#Load the data and Preprocessing\n",
    "\n",
    "df = pd.read_csv(\"C:\\\\Users\\\\Dwi Fitria\\\\Intern\\\\CODSOFT\\\\CODSOFT\\\\4. Titanic Survival Prediction\\\\4. Titanic Survival Dataset.csv\")"
   ]
  },
  {
   "cell_type": "code",
   "execution_count": 7,
   "metadata": {},
   "outputs": [
    {
     "name": "stdout",
     "output_type": "stream",
     "text": [
      "<class 'pandas.core.frame.DataFrame'>\n",
      "RangeIndex: 891 entries, 0 to 890\n",
      "Data columns (total 12 columns):\n",
      " #   Column       Non-Null Count  Dtype  \n",
      "---  ------       --------------  -----  \n",
      " 0   PassengerId  891 non-null    int64  \n",
      " 1   Survived     891 non-null    int64  \n",
      " 2   Pclass       891 non-null    int64  \n",
      " 3   Name         891 non-null    object \n",
      " 4   Sex          891 non-null    object \n",
      " 5   Age          891 non-null    float64\n",
      " 6   SibSp        891 non-null    int64  \n",
      " 7   Parch        891 non-null    int64  \n",
      " 8   Ticket       891 non-null    object \n",
      " 9   Fare         891 non-null    float64\n",
      " 10  Cabin        204 non-null    object \n",
      " 11  Embarked     889 non-null    object \n",
      "dtypes: float64(2), int64(5), object(5)\n",
      "memory usage: 83.7+ KB\n"
     ]
    }
   ],
   "source": [
    "df.info()"
   ]
  },
  {
   "cell_type": "code",
   "execution_count": 8,
   "metadata": {},
   "outputs": [
    {
     "data": {
      "text/plain": [
       "<bound method NDFrame.head of      PassengerId  Survived  Pclass  \\\n",
       "0              1         0       3   \n",
       "1              2         1       1   \n",
       "2              3         1       3   \n",
       "3              4         1       1   \n",
       "4              5         0       3   \n",
       "..           ...       ...     ...   \n",
       "886          887         0       2   \n",
       "887          888         1       1   \n",
       "888          889         0       3   \n",
       "889          890         1       1   \n",
       "890          891         0       3   \n",
       "\n",
       "                                                  Name     Sex        Age  \\\n",
       "0                              Braund, Mr. Owen Harris    male  22.000000   \n",
       "1    Cumings, Mrs. John Bradley (Florence Briggs Th...  female  38.000000   \n",
       "2                               Heikkinen, Miss. Laina  female  26.000000   \n",
       "3         Futrelle, Mrs. Jacques Heath (Lily May Peel)  female  35.000000   \n",
       "4                             Allen, Mr. William Henry    male  35.000000   \n",
       "..                                                 ...     ...        ...   \n",
       "886                              Montvila, Rev. Juozas    male  27.000000   \n",
       "887                       Graham, Miss. Margaret Edith  female  19.000000   \n",
       "888           Johnston, Miss. Catherine Helen \"Carrie\"  female  29.699118   \n",
       "889                              Behr, Mr. Karl Howell    male  26.000000   \n",
       "890                                Dooley, Mr. Patrick    male  32.000000   \n",
       "\n",
       "     SibSp  Parch            Ticket     Fare Cabin Embarked  \n",
       "0        1      0         A/5 21171   7.2500   NaN        S  \n",
       "1        1      0          PC 17599  71.2833   C85        C  \n",
       "2        0      0  STON/O2. 3101282   7.9250   NaN        S  \n",
       "3        1      0            113803  53.1000  C123        S  \n",
       "4        0      0            373450   8.0500   NaN        S  \n",
       "..     ...    ...               ...      ...   ...      ...  \n",
       "886      0      0            211536  13.0000   NaN        S  \n",
       "887      0      0            112053  30.0000   B42        S  \n",
       "888      1      2        W./C. 6607  23.4500   NaN        S  \n",
       "889      0      0            111369  30.0000  C148        C  \n",
       "890      0      0            370376   7.7500   NaN        Q  \n",
       "\n",
       "[891 rows x 12 columns]>"
      ]
     },
     "execution_count": 8,
     "metadata": {},
     "output_type": "execute_result"
    }
   ],
   "source": [
    "df.head"
   ]
  },
  {
   "cell_type": "code",
   "execution_count": 9,
   "metadata": {},
   "outputs": [
    {
     "name": "stdout",
     "output_type": "stream",
     "text": [
      "Number of duplicate rows: 0\n",
      "Empty DataFrame\n",
      "Columns: [PassengerId, Survived, Pclass, Name, Sex, Age, SibSp, Parch, Ticket, Fare, Cabin, Embarked]\n",
      "Index: []\n"
     ]
    }
   ],
   "source": [
    "# Check for duplicate rows\n",
    "duplicate_rows = df[df.duplicated()]\n",
    "print(f\"Number of duplicate rows: {duplicate_rows.shape[0]}\")\n",
    "print(duplicate_rows)"
   ]
  },
  {
   "cell_type": "code",
   "execution_count": 11,
   "metadata": {},
   "outputs": [],
   "source": [
    "#missing values\n",
    "df['Embarked'].fillna(df['Embarked'].mode()[0], inplace=True)\n",
    "\n",
    "#I replaced missing values in the 'Age' column with the mean of the column"
   ]
  },
  {
   "cell_type": "code",
   "execution_count": 12,
   "metadata": {},
   "outputs": [
    {
     "name": "stdout",
     "output_type": "stream",
     "text": [
      "   Survived  Pclass     Sex   Age  SibSp  Parch     Fare Embarked\n",
      "0         0       3    male  22.0      1      0   7.2500        S\n",
      "1         1       1  female  38.0      1      0  71.2833        C\n",
      "2         1       3  female  26.0      0      0   7.9250        S\n",
      "3         1       1  female  35.0      1      0  53.1000        S\n",
      "4         0       3    male  35.0      0      0   8.0500        S\n"
     ]
    }
   ],
   "source": [
    "df = df.drop(columns=['PassengerId', 'Name', 'Ticket', 'Cabin'])\n",
    "print(df.head())"
   ]
  },
  {
   "cell_type": "code",
   "execution_count": 13,
   "metadata": {},
   "outputs": [
    {
     "data": {
      "application/vnd.microsoft.datawrangler.viewer.v0+json": {
       "columns": [
        {
         "name": "index",
         "rawType": "object",
         "type": "string"
        },
        {
         "name": "Survived",
         "rawType": "float64",
         "type": "float"
        },
        {
         "name": "Pclass",
         "rawType": "float64",
         "type": "float"
        },
        {
         "name": "Age",
         "rawType": "float64",
         "type": "float"
        },
        {
         "name": "SibSp",
         "rawType": "float64",
         "type": "float"
        },
        {
         "name": "Parch",
         "rawType": "float64",
         "type": "float"
        },
        {
         "name": "Fare",
         "rawType": "float64",
         "type": "float"
        }
       ],
       "conversionMethod": "pd.DataFrame",
       "ref": "b1554e70-cf71-413f-a7f4-c35747eebf41",
       "rows": [
        [
         "count",
         "891.0",
         "891.0",
         "891.0",
         "891.0",
         "891.0",
         "891.0"
        ],
        [
         "mean",
         "0.3838383838383838",
         "2.308641975308642",
         "29.699117647643096",
         "0.5230078563411896",
         "0.38159371492704824",
         "32.204207968574636"
        ],
        [
         "std",
         "0.4865924542648575",
         "0.836071240977049",
         "13.002015226002884",
         "1.1027434322934317",
         "0.8060572211299483",
         "49.6934285971809"
        ],
        [
         "min",
         "0.0",
         "1.0",
         "0.42",
         "0.0",
         "0.0",
         "0.0"
        ],
        [
         "25%",
         "0.0",
         "2.0",
         "22.0",
         "0.0",
         "0.0",
         "7.9104"
        ],
        [
         "50%",
         "0.0",
         "3.0",
         "29.69911765",
         "0.0",
         "0.0",
         "14.4542"
        ],
        [
         "75%",
         "1.0",
         "3.0",
         "35.0",
         "1.0",
         "0.0",
         "31.0"
        ],
        [
         "max",
         "1.0",
         "3.0",
         "80.0",
         "8.0",
         "6.0",
         "512.3292"
        ]
       ],
       "shape": {
        "columns": 6,
        "rows": 8
       }
      },
      "text/html": [
       "<div>\n",
       "<style scoped>\n",
       "    .dataframe tbody tr th:only-of-type {\n",
       "        vertical-align: middle;\n",
       "    }\n",
       "\n",
       "    .dataframe tbody tr th {\n",
       "        vertical-align: top;\n",
       "    }\n",
       "\n",
       "    .dataframe thead th {\n",
       "        text-align: right;\n",
       "    }\n",
       "</style>\n",
       "<table border=\"1\" class=\"dataframe\">\n",
       "  <thead>\n",
       "    <tr style=\"text-align: right;\">\n",
       "      <th></th>\n",
       "      <th>Survived</th>\n",
       "      <th>Pclass</th>\n",
       "      <th>Age</th>\n",
       "      <th>SibSp</th>\n",
       "      <th>Parch</th>\n",
       "      <th>Fare</th>\n",
       "    </tr>\n",
       "  </thead>\n",
       "  <tbody>\n",
       "    <tr>\n",
       "      <th>count</th>\n",
       "      <td>891.000000</td>\n",
       "      <td>891.000000</td>\n",
       "      <td>891.000000</td>\n",
       "      <td>891.000000</td>\n",
       "      <td>891.000000</td>\n",
       "      <td>891.000000</td>\n",
       "    </tr>\n",
       "    <tr>\n",
       "      <th>mean</th>\n",
       "      <td>0.383838</td>\n",
       "      <td>2.308642</td>\n",
       "      <td>29.699118</td>\n",
       "      <td>0.523008</td>\n",
       "      <td>0.381594</td>\n",
       "      <td>32.204208</td>\n",
       "    </tr>\n",
       "    <tr>\n",
       "      <th>std</th>\n",
       "      <td>0.486592</td>\n",
       "      <td>0.836071</td>\n",
       "      <td>13.002015</td>\n",
       "      <td>1.102743</td>\n",
       "      <td>0.806057</td>\n",
       "      <td>49.693429</td>\n",
       "    </tr>\n",
       "    <tr>\n",
       "      <th>min</th>\n",
       "      <td>0.000000</td>\n",
       "      <td>1.000000</td>\n",
       "      <td>0.420000</td>\n",
       "      <td>0.000000</td>\n",
       "      <td>0.000000</td>\n",
       "      <td>0.000000</td>\n",
       "    </tr>\n",
       "    <tr>\n",
       "      <th>25%</th>\n",
       "      <td>0.000000</td>\n",
       "      <td>2.000000</td>\n",
       "      <td>22.000000</td>\n",
       "      <td>0.000000</td>\n",
       "      <td>0.000000</td>\n",
       "      <td>7.910400</td>\n",
       "    </tr>\n",
       "    <tr>\n",
       "      <th>50%</th>\n",
       "      <td>0.000000</td>\n",
       "      <td>3.000000</td>\n",
       "      <td>29.699118</td>\n",
       "      <td>0.000000</td>\n",
       "      <td>0.000000</td>\n",
       "      <td>14.454200</td>\n",
       "    </tr>\n",
       "    <tr>\n",
       "      <th>75%</th>\n",
       "      <td>1.000000</td>\n",
       "      <td>3.000000</td>\n",
       "      <td>35.000000</td>\n",
       "      <td>1.000000</td>\n",
       "      <td>0.000000</td>\n",
       "      <td>31.000000</td>\n",
       "    </tr>\n",
       "    <tr>\n",
       "      <th>max</th>\n",
       "      <td>1.000000</td>\n",
       "      <td>3.000000</td>\n",
       "      <td>80.000000</td>\n",
       "      <td>8.000000</td>\n",
       "      <td>6.000000</td>\n",
       "      <td>512.329200</td>\n",
       "    </tr>\n",
       "  </tbody>\n",
       "</table>\n",
       "</div>"
      ],
      "text/plain": [
       "         Survived      Pclass         Age       SibSp       Parch        Fare\n",
       "count  891.000000  891.000000  891.000000  891.000000  891.000000  891.000000\n",
       "mean     0.383838    2.308642   29.699118    0.523008    0.381594   32.204208\n",
       "std      0.486592    0.836071   13.002015    1.102743    0.806057   49.693429\n",
       "min      0.000000    1.000000    0.420000    0.000000    0.000000    0.000000\n",
       "25%      0.000000    2.000000   22.000000    0.000000    0.000000    7.910400\n",
       "50%      0.000000    3.000000   29.699118    0.000000    0.000000   14.454200\n",
       "75%      1.000000    3.000000   35.000000    1.000000    0.000000   31.000000\n",
       "max      1.000000    3.000000   80.000000    8.000000    6.000000  512.329200"
      ]
     },
     "execution_count": 13,
     "metadata": {},
     "output_type": "execute_result"
    }
   ],
   "source": [
    "df.describe()"
   ]
  },
  {
   "cell_type": "markdown",
   "metadata": {},
   "source": [
    "1. The minimum age is 0.42 (likely infants), and the maximum is 80\n",
    "2. Most passengers have 0 or 1 sibling/spouse (75th percentile is 1). The maximum value is 8, which could be an outlier.\n",
    "3. Most passengers have 0 parents/children (75th percentile is 0). The maximum value is 6, which could be an outlier.\n",
    "4. The fare distribution is highly skewed (mean = 32.20, std = 49.69). The maximum fare of 512.33 is significantly higher than the 75th percentile (31.00).\n"
   ]
  },
  {
   "cell_type": "code",
   "execution_count": 14,
   "metadata": {},
   "outputs": [
    {
     "data": {
      "image/png": "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",
      "text/plain": [
       "<Figure size 2000x500 with 4 Axes>"
      ]
     },
     "metadata": {},
     "output_type": "display_data"
    }
   ],
   "source": [
    "# Create histogram for numerical columns\n",
    "numerical_columns = ['Age', 'SibSp', 'Parch', 'Fare']\n",
    "\n",
    "plt.figure(figsize=(20, 5))\n",
    "\n",
    "for i, column in enumerate(numerical_columns, 1):\n",
    "    plt.subplot(1, 4, i)\n",
    "    sns.histplot(x=df[column], kde=True)\n",
    "    plt.title(f'Histogram of {column}')\n",
    "    plt.xlabel(column)\n",
    "    plt.ylabel('Frequency')\n",
    "\n",
    "plt.tight_layout()\n",
    "plt.show()"
   ]
  },
  {
   "cell_type": "markdown",
   "metadata": {},
   "source": [
    "Insights:\n",
    "1. The Titanic carried a predominantly young population, with most passengers aged between 20 and 30.\n",
    "2. Most passengers were traveling alone (SibSp = 0). There's a small number of passengers with large families (SibSp > 4), indicating some families traveling together.\n",
    "3. Most passengers were traveling without parents or children (Parch = 0).\n",
    "4. Ticket fares varied significantly, with most passengers paying lower fares but a few paying substantially higher amounts, likely for more luxurious accommodations."
   ]
  },
  {
   "cell_type": "code",
   "execution_count": 15,
   "metadata": {},
   "outputs": [
    {
     "data": {
      "image/png": "iVBORw0KGgoAAAANSUhEUgAAB8UAAAHqCAYAAACdjp8kAAAAOXRFWHRTb2Z0d2FyZQBNYXRwbG90bGliIHZlcnNpb24zLjkuMSwgaHR0cHM6Ly9tYXRwbG90bGliLm9yZy/TGe4hAAAACXBIWXMAAA9hAAAPYQGoP6dpAABmhklEQVR4nO3dd5gV9d034O8Wll40SO82jIpiR6JIrAiKbxRjHhNF7IotaiwkaoxYo8YOVjQSUdQo2EEFoiGKBXsBBTWiiAUQpO7O+wfPnmcPLLDAwu6Zve/r2gvOnJk5v9+c3fnOzGdKXpIkSQAAAAAAAABACuVXdQMAAAAAAAAAYH0RigMAAAAAAACQWkJxAAAAAAAAAFJLKA4AAAAAAABAagnFAQAAAAAAAEgtoTgAAAAAAAAAqSUUBwAAAAAAACC1hOIAAAAAAAAApJZQHAAAAAAAAIDUEopDjsjLy4tLLrmkqpuRZdKkSbH77rtH/fr1Iy8vLyZPnlzVTQKADa6m1Oi99tor9tprr8zrcePGRV5eXjz88MPrPG8AqAo1pYavb7YJAKgO1HVgdYTi1HjDhg2LvLy8rJ9mzZpFz5494+mnn67q5q2z999/Py655JKYPn16pc53yZIl0a9fv/j+++/j+uuvj7///e/Rvn371U731FNPRV5eXrRq1SpKSkoqtU0ApIsavXbWtEZPnz49jjnmmNh0002jTp060aJFi9hzzz3j4osvrtR2jR49Onr06BHNmjWLevXqRadOneLwww+PZ555plI/B4Cqp4avnTWp4aVBdOlPrVq1olOnTnHUUUfFp59+WqntAqBmU9fXzrrU9bI/RxxxRKW2C2qywqpuAFQXl156aXTs2DGSJImZM2fGsGHD4sADD4zRo0dHnz59qrp5a+3999+PP//5z7HXXntFhw4dKm2+n3zySXz22Wdxxx13xHHHHVfh6YYPHx4dOnSI6dOnxwsvvBD77LNPpbUJgHRSo9fMmtToqVOnxs477xx169aNAQMGRIcOHeKrr76KN954I6666qr485//nBn3ueeeW+s2/fWvf41zzz03evToERdccEHUq1cvpk6dGmPHjo0RI0bEAQccsNbzBqD6UsPXzNrsZ59++umx8847x5IlS+KNN96I22+/PZ588sl45513olWrVpXWNgBQ19fMutT1siqzTVDTCcXhf/Xq1St22mmnzOtjjz02mjdvHg888EBOF/X15ZtvvomIiCZNmlR4mvnz58fjjz8eV1xxRdxzzz0xfPhwoTgAq6VGr5k1qdHXX399zJs3LyZPnrzCGeul8ylVVFS0Vu1ZunRp/OUvf4l999233GB9+c8BID3U8DWzNvvZe+yxRxx22GEREXHMMcfEFltsEaeffnrce++9ccEFF6x1W5IkiYULF0bdunXXeh4ApIu6vmbWta5XloULF0ZRUVHk57txNPgrgJVo0qRJ1K1bNwoLs88dmT9/fpx99tnRtm3bqF27dmy55Zbx17/+NZIkiYiIBQsWROfOnaNz586xYMGCzHTff/99tGzZMnbfffcoLi6OiIj+/ftHgwYN4tNPP439998/6tevH61atYpLL700M79VefPNN6NXr17RqFGjaNCgQey9997xn//8J/P+sGHDol+/fhER0bNnz8wtV8aNG7fK+b7wwguxxx57RP369aNJkybRt2/f+OCDDzLv9+/fP3r06BEREf369Yu8vLysZ4yuzD//+c9YsGBB9OvXL4444oh49NFHY+HChSuMt2DBgjj99NOjadOm0bBhwzj44IPjyy+/LPe5MF9++WUMGDAgmjdvHrVr146tt9467r777tW2BYDcpUZXXo3+5JNPok2bNuXewq1Zs2ZZr5d/pnip4uLiuPDCC6NFixZRv379OPjgg+OLL77IvP/tt9/G3Llzo3v37uW2oeznlN4y7sEHH1zlPAHITWp45e9nL++Xv/xlRERMmzYtIiLuueee+OUvfxnNmjWL2rVrx89//vO47bbbVpiuQ4cO0adPn3j22Wdjp512irp168bQoUMjImL27Nlx1llnRYcOHaJ27drRpk2bOOqoo+Lbb7/NmkdJSUkMHjw42rRpE3Xq1Im99947pk6dusZ9ACA3qOvrv66X+v777+Occ86JbbfdNho0aBCNGjWKXr16xVtvvZU1Xuk+9YgRI+KPf/xjtG7dOurVqxdz586NiIhXXnklDjjggGjcuHHUq1cvevToES+//PJatwtyjSvF4X/NmTMnvv3220iSJL755pu46aabYt68efHb3/42M06SJHHwwQfHiy++GMcee2xsv/328eyzz8a5554bX375ZVx//fVRt27duPfee6N79+4xaNCguO666yIi4tRTT405c+bEsGHDoqCgIDPP4uLiOOCAA2K33XaLq6++Op555pm4+OKLY+nSpXHppZeutL3vvfde7LHHHtGoUaP4wx/+ELVq1YqhQ4fGXnvtFePHj49dd9019txzzzj99NPjxhtvjAsvvDC22mqriIjMv+UZO3Zs9OrVKzp16hSXXHJJLFiwIG666abo3r17vPHGG9GhQ4c48cQTo3Xr1nH55ZdnbunSvHnz1S7j4cOHR8+ePaNFixZxxBFHxPnnnx+jR4/ObHiU6t+/fzz00EPxu9/9LnbbbbcYP3589O7de4X5zZw5M3bbbbfIy8uLgQMHxiabbBJPP/10HHvssTF37tw488wzV9smAKo/NXqZ9VGj27dvH2PHjo0XXnghcxB9TQ0ePDjy8vLivPPOi2+++Sb+9re/xT777BOTJ0+OunXrRrNmzaJu3boxevToOO2002LjjTde53kCkBvU8GXW53728j755JOIiPjZz34WERG33XZbbL311nHwwQdHYWFhjB49Ok455ZQoKSmJU089NWvajz76KH7zm9/EiSeeGMcff3xsueWWMW/evNhjjz3igw8+iAEDBsQOO+wQ3377bYwaNSr++9//RtOmTTPTX3nllZGfnx/nnHNOzJkzJ66++uo48sgj45VXXlnjfgBQ/ajry6zPuv7jjz+ucNLZxhtvHJ9++mk89thj0a9fv+jYsWPMnDkzhg4dGj169Ij3339/hUem/OUvf4mioqI455xzYtGiRVFUVBQvvPBC9OrVK3bccce4+OKLIz8/P3Py3L/+9a/YZZddVts+yHkJ1HD33HNPEhEr/NSuXTsZNmxY1riPPfZYEhHJZZddljX8sMMOS/Ly8pKpU6dmhl1wwQVJfn5+MmHChGTkyJFJRCR/+9vfsqY7+uijk4hITjvttMywkpKSpHfv3klRUVEya9aszPCISC6++OLM60MOOSQpKipKPvnkk8ywGTNmJA0bNkz23HPPzLDSz37xxRcrtDy23377pFmzZsl3332XGfbWW28l+fn5yVFHHZUZ9uKLLyYRkYwcObJC8505c2ZSWFiY3HHHHZlhu+++e9K3b9+s8V5//fUkIpIzzzwza3j//v1XWAbHHnts0rJly+Tbb7/NGveII45IGjdunPz0008VahsA1ZManW191Oh33303qVu3bhIRyfbbb5+cccYZyWOPPZbMnz9/hXF79OiR9OjRY4XPad26dTJ37tzM8IceeiiJiOSGG27IDLvooouSiEjq16+f9OrVKxk8eHDy+uuvr/AZazJPAKovNTzb+qjhpePefffdyaxZs5IZM2YkTz75ZNKhQ4ckLy8vmTRpUpIkSbn7xfvvv3/SqVOnrGHt27dPIiJ55plnsoaX1vBHH310hfmUlJRktWWrrbZKFi1alHn/hhtuSCIieeedd1bbHwCqL3U92/qs6+X9TJs2LVm4cGFSXFycNc20adOS2rVrJ5deeukK8+nUqVPWNkBJSUmy+eabJ/vvv3+mfifJsu2Ejh07Jvvuu2+F+g65zu3T4X/dcsstMWbMmBgzZkzcf//90bNnzzjuuOPi0UcfzYzz1FNPRUFBQZx++ulZ05599tmRJEk8/fTTmWGXXHJJbL311nH00UfHKaecEj169FhhulIDBw7M/L/0qufFixfH2LFjyx2/uLg4nnvuuTjkkEOiU6dOmeEtW7aM//mf/4mXXnopc0uUNfHVV1/F5MmTo3///llXcXXp0iX23XffeOqpp9Z4nqVGjBgR+fn5ceihh2aG/eY3v4mnn346fvjhh8ywZ555JiIiTjnllKzpTzvttKzXSZLEI488EgcddFAkSRLffvtt5mf//fePOXPmxBtvvLHW7QWg+lCj11+N3nrrrWPy5Mnx29/+NqZPnx433HBDHHLIIdG8efO44447KjSPo446Kho2bJh5fdhhh0XLli2z2vTnP/85/vGPf0TXrl3j2WefjUGDBsWOO+4YO+ywQ9Yt5tZkngBUf2r4+t3PjogYMGBAbLLJJtGqVavo3bt3zJ8/P+69997MM1/L3mGl9Aq/Hj16xKeffhpz5szJmlfHjh1j//33zxr2yCOPxHbbbRf/7//9vxU+Oy8vL+v1McccE0VFRZnXe+yxR0REfPrpp+vURwCqB3V9/df1iy66KLOMS39atGgRtWvXzjwTvLi4OL777rto0KBBbLnlluUeAz/66KOztgEmT54cU6ZMif/5n/+J7777LnMcff78+bH33nvHhAkToqSkZJ3aDrnA7dPhf+2yyy6ZncaIZYFt165dY+DAgdGnT58oKiqKzz77LFq1apV1kDbi/26n8tlnn2WGFRUVxd133x0777xz1KlTJ+65554VdhgjIvLz87MKc0TEFltsERER06dPL7ets2bNip9++im23HLLFd7baqutoqSkJL744ovYeuutK9b5/1Xa/pXN99lnn4358+dH/fr112i+ERH3339/7LLLLvHdd9/Fd999FxERXbt2jcWLF8fIkSPjhBNOyLQhPz8/OnbsmDX9ZpttlvV61qxZMXv27Lj99tvj9ttvL/czv/nmmzVuJwDVjxq9fmv0FltsEX//+9+juLg43n///XjiiSfi6quvjhNOOCE6duwY++yzzyqn33zzzbNe5+XlxWabbbbCMvrNb34Tv/nNb2Lu3LnxyiuvxLBhw+If//hHHHTQQfHuu+9GnTp11nieAFRvavj6reERyw6e77HHHlFQUBBNmzaNrbbaKuvZri+//HJcfPHFMXHixPjpp5+ypp0zZ040btw483r5/fCIZbdjL3ty+6q0a9cu6/VGG20UEZF1IjwAuUtdX/91fdttty13H7ykpCRuuOGGuPXWW2PatGmZZ65H/N8jU8pavqZPmTIlIpaF5SszZ86cTO2GtBKKw0rk5+dHz54944YbbogpU6ascYGMiHj22WcjImLhwoUxZcqUcncwa4IpU6bEpEmTImLFg9wRy541XhqKV1TpmWu//e1vV1rMu3TpsoYtBSAXqNHrR0FBQWy77bax7bbbRrdu3aJnz54xfPjw1Ybia6pRo0ax7777xr777hu1atWKe++9N1555ZXo0aNHpX4OANWPGl75VnbwPGJZoL333ntH586d47rrrou2bdtGUVFRPPXUU3H99devcEVY2SvK1kbZ57+WlSTJOs0XgOpJXd9wLr/88vjTn/4UAwYMiL/85S+x8cYbR35+fpx55pnlXuG9fE0vHeeaa66J7bffvtzPaNCgQaW3G6oboTiswtKlSyMiYt68eRER0b59+xg7dmz8+OOPWWe7ffjhh5n3S7399ttx6aWXxjHHHBOTJ0+O4447Lt55552ss7AjlhWkTz/9NHN2W0TExx9/HBERHTp0KLddm2yySdSrVy8++uijFd778MMPIz8/P9q2bRsRK97ObFVK27+y+TZt2nStznIbPnx41KpVK/7+97+vsJP80ksvxY033hiff/55tGvXLtq3bx8lJSUxbdq0rAB96tSpWdNtsskm0bBhwyguLq70g/UAVH9qdPZ817ZGr0zp2f9fffXVasctPeO8VJIkMXXq1AqdnLbTTjvFvffeu8LnrMs8Aaje1PDs+VZ2DS9r9OjRsWjRohg1alTWVdwvvvhiheex6aabxrvvvrs+mgdACqjr2fNdX3X94Ycfjp49e8Zdd92VNXz27NnRtGnT1U6/6aabRsSyk9QdS6cm80xxWIklS5bEc889F0VFRZnbuxx44IFRXFwcN998c9a4119/feTl5UWvXr0y0/bv3z9atWoVN9xwQwwbNixmzpwZZ511VrmfVXZ+SZLEzTffHLVq1Yq999673PELCgpiv/32i8cffzzrFjEzZ86Mf/zjH/GLX/wiGjVqFBGRKcKzZ89ebZ9btmwZ22+/fdx7771Z47/77rvx3HPPxYEHHrjaeZRn+PDhsccee8Svf/3rOOyww7J+zj333IiIeOCBByIiMs8vu/XWW7PmcdNNN2W9LigoiEMPPTQeeeSRcnfQZ82atVZtBaD6U6P/b/x1rdH/+te/YsmSJSsML30OWnm3hFvefffdFz/++GPm9cMPPxxfffVVZpn/9NNPMXHixHKnLX2e3PKfs7p5ApCb1PD/G39da3hFlJ6UXvZK7Tlz5sQ999xT4Xkceuih8dZbb8U///nPFd5zBThAzaau/9/467uuFxQUrFB3R44cGV9++WWFpt9xxx1j0003jb/+9a+ZExjKciydmsKV4vC/nn766cwZa99880384x//iClTpsT555+fKZAHHXRQ9OzZMwYNGhTTp0+P7bbbLp577rl4/PHH48wzz8yccXXZZZfF5MmT4/nnn4+GDRtGly5d4qKLLoo//vGPcdhhh2UVxzp16sQzzzwTRx99dOy6667x9NNPx5NPPhkXXnhhbLLJJitt72WXXRZjxoyJX/ziF3HKKadEYWFhDB06NBYtWhRXX311Zrztt98+CgoK4qqrroo5c+ZE7dq145e//GU0a9as3Plec8010atXr+jWrVsce+yxsWDBgrjpppuicePGcckll6zxcn3llVdi6tSpMXDgwHLfb926deywww4xfPjwOO+882LHHXeMQw89NP72t7/Fd999F7vttluMHz8+c/Zf2TP3rrzyynjxxRdj1113jeOPPz5+/vOfx/fffx9vvPFGjB07Nr7//vs1bi8A1Y8avUxl1+iIiKuuuipef/31+NWvfpW5CvuNN96I++67LzbeeOM488wzVzuPjTfeOH7xi1/EMcccEzNnzoy//e1vsdlmm8Xxxx8fEctC8d133z122223OOCAA6Jt27Yxe/bseOyxx+Jf//pXHHLIIdG1a9c1micAuUENX2Z91PCK2G+//aKoqCgOOuigOPHEE2PevHlxxx13RLNmzSp0N5iIiHPPPTcefvjh6NevXwwYMCB23HHH+P7772PUqFExZMiQ2G677dZb+wGoXtT1Zaqirvfp0ydzVf3uu+8e77zzTgwfPnyFZ62vTH5+ftx5553Rq1ev2HrrreOYY46J1q1bx5dffhkvvvhiNGrUKEaPHr1e2g7VSgI13D333JNERNZPnTp1ku233z657bbbkpKSkqzxf/zxx+Sss85KWrVqldSqVSvZfPPNk2uuuSYz3uuvv54UFhYmp512WtZ0S5cuTXbeeeekVatWyQ8//JAkSZIcffTRSf369ZNPPvkk2W+//ZJ69eolzZs3Ty6++OKkuLg4a/qISC6++OKsYW+88Uay//77Jw0aNEjq1auX9OzZM/n3v/+9Qh/vuOOOpFOnTklBQUESEcmLL764ymUyduzYpHv37kndunWTRo0aJQcddFDy/vvvZ43z4osvJhGRjBw5cpXzOu2005KISD755JOVjnPJJZckEZG89dZbSZIkyfz585NTTz012XjjjZMGDRokhxxySPLRRx8lEZFceeWVWdPOnDkzOfXUU5O2bdsmtWrVSlq0aJHsvffeye23377KdgFQ/anRK6rMGp0kSfLyyy8np556arLNNtskjRs3TmrVqpW0a9cu6d+//wq1u0ePHkmPHj1W+JwHHnggueCCC5JmzZoldevWTXr37p189tlnmfGWLFmS3HHHHckhhxyStG/fPqldu3ZSr169pGvXrsk111yTLFq0aI3nCUD1poavqLJreEXHHTVqVNKlS5ekTp06SYcOHZKrrroqufvuu5OISKZNm5YZr3379knv3r3Lncd3332XDBw4MGndunVSVFSUtGnTJjn66KOTb7/9dpVtmTZtWhIRyT333LPa/gBQfanrK9rQdX3hwoXJ2WefnbRs2TKpW7du0r1792TixIkr3U9f2XzefPPN5Fe/+lXys5/9LKldu3bSvn375PDDD0+ef/751bYR0iAvSdzrCKpK//794+GHHy73liVkmzx5cnTt2jXuv//+OPLII6u6OQCknBpdNcaNGxc9e/aMkSNHxmGHHVbVzQEgB6nhAJAe6jpQmTxTHKh2FixYsMKwv/3tb5Gfnx977rlnFbQIAAAAAACAXOWZ4kC1c/XVV8frr78ePXv2jMLCwnj66afj6aefjhNOOCHatm1b1c0DAAAAAAAghwjFgWpn9913jzFjxsRf/vKXmDdvXrRr1y4uueSSGDRoUFU3DQAAAAAAgBzjmeIAAAAAAAAApJZnigMAAAAAAACQWkJxAAAAAAAAAFJrrZ8pXlJSEjNmzIiGDRtGXl5eZbYJAPhfSZLEjz/+GK1atYr8/HU/l039BoD1T/0GgNykhgNA7qlo/V7rUHzGjBnRtm3btZ0cAFgDX3zxRbRp02ad56N+A8CGo34DQG5SwwEg96yufq91KN6wYcPMBzRq1GhtZwMArMLcuXOjbdu2mbq7rtRvAFj/1G8AyE1qOADknorW77UOxUtv99KoUSMFHQDWs8q6zZr6DQAbjvoNALlJDQeA3LO6+r3uD0YBAAAAAAAAgGpKKA4AAAAAAABAagnFAQAAAAAAAEgtoTgAAAAAAAAAqSUUBwAAAAAAACC1hOIAAAAAAAAApJZQHAAAAAAAAIDUEooDAAAAAAAAkFpCcQAAAAAAAABSSygOAAAAAAAAQGoJxQEAAAAAAABILaE4AAAAAAAAAKklFAcAAAAAAAAgtYTiAAAAAAAAAKSWUBwAAAAAAACA1BKKAwAAAAAAAJBaQnEAAAAAAAAAUksoDgAAAAAAAEBqCcUBAAAAAAAASC2hOAAAAAAAAACpJRQHAAAAAAAAILWE4gAAAAAAAACkllAcAAAAAAAAgNQSigMAAAAAAACQWkJxAAAAAAAAAFJLKA4AAAAAAABAagnFAQAAAAAAAEgtoTgAAAAAAAAAqSUUBwAAAAAAACC1hOIAAAAAAAAApJZQHAAAAAAAAIDUEooDAAAAAAAAkFpCcQAAAAAAAABSSygOAAAAAAAAQGoJxQEAAAAAAABILaE4AAAAAAAAAKklFAcAAAAAAAAgtQqrugHUDDNnzow5c+ZUdTOqpcaNG0fz5s2ruhkA6yyt63rraQAAAHJFZe6b2x8GIE2E4qx3M2fOjN/+7qhYsnhRVTelWqpVVDvu//t9NjCBnPbhhx/GKaecGiUlxVXdlEpnPQ1AWk2dOjVuuummOO2002KzzTar6uYAAOuoso/D2h8GIE2E4qx3c+bMiSWLF8WCTj2ipE7jqm7OSuUvmB11p02IBR33jJK6TTbMZy6cE/Hp+JgzZ46NSyCnffHFF1FSUhwLW+8QxY3bVHVzKo31NABpNm3atHjrrbdi2rRpQnEASIHyjsOu7TFP+8MApI1QnA2mpE7jKKnftKqbsVoldZvkRDsBqqOkqIF1KAAAAFSh8o7DOuYJQE2XX9UNAAAAAAAAAID1RSgOAAAAAAAAQGoJxQEAAAAAAABILaE4AAAAAAAAAKklFAcAAAAAAAAgtYTiAAAAAAAAAKSWUBwAAAAAAACA1BKKAwAAAAAAAJBaQnEAAAAAAAAAUksoDgAAAAAAAEBqCcUBAAAAAAAASC2hOAAAAAAAAACpJRQHAAAAAAAAILWE4gAAAAAAAACkllAcAAAAAAAAgNQSigMAAAAAAACQWkJxAAAAAAAAAFJLKA4AAAAAAABAagnFAQAAAAAAAEgtoTgAAAAAAAAAqSUUBwAAAAAAACC1hOIAAAAAAAAApJZQHAAAAAAAAIDUEooDAAAAAAAAkFpCcQAAAAAAAABSSygOAAAAAAAAQGoJxQEAAAAAAABILaE4AAAAAAAAAKklFAcAAAAAAAAgtYTiAAAAAAAAAKSWUBwAAAAAAACA1BKKAwAAAAAAAJBaQnEAAAAAAAAAUksoDgAAAAAAAEBqCcUBAAAAAAAASC2hOAAAAAAAAACpJRQHAAAAAAAAILWE4gAAAAAAAACkllAcAAAAAAAAgNQSigMAAAAAAACQWkJxAAAAAAAAAFJLKA4AAAAAAABAagnFAQAAAAAAAEgtoTgAAAAAAAAAqSUUBwAAAAAAACC1hOIAAAAAAAAApJZQHAAAAAAAAIDUEooDAAAAAAAAkFpCcQAAAAAAAABSSygOAAAAAAAAQGoJxQEAAAAAAABILaE4AAAAAAAAAKklFAcAAAAAAAAgtYTiAAAAAAAAAKSWUBwAAAAAAACA1BKKAwAAAAAAAJBaQnEAAAAAAAAAUksoDgAAAAAAAEBqCcUBAAAAAAAASC2hOAAAAAAAAACpJRQHAAAAAAAAILWE4gAAAAAAAACkllAcAAAAAAAAgNQSigMAAAAAAACQWkJxAAAAAAAAAFJLKA4AAAAAAABAagnFAQAAAAAAAEgtoTgAAAAAAAAAqSUUBwAAAAAAACC1hOIAAAAAAAAApJZQHAAAAAAAAIDUEooDAAAAAAAAkFpCcQAAAAAAAABSSygOAAAAAAAAQGoJxQEAAAAAAABILaE4AAAAAAAAAKklFAcAAAAAAAAgtVITii9cuDA+/vjjWLhwYVU3BUgB6xRYM0uWLFn2n6S4ahtChVjHARAR8dNPP2X9CwBUf2nen0tz3wCoeqkJxT///PM44YQT4vPPP6/qpgApYJ0Ca+bbb7+NiIi8xQ6q5wLrOAAiIj755JOsfwGA6i/N+3Np7hsAVS81oTgAAAAAAAAALE8oDgAAAAAAAEBqCcUBAAAAAAAASC2hOAAAAAAAAACpJRQHAAAAAAAAILWE4gAAAAAAAACkllAcAAAAAAAAgNQSigMAAAAAAACQWkJxAAAAAAAAAFJLKA4AAAAAAABAagnFAQAAAAAAAEgtoTgAAAAAAAAAqSUUBwAAAAAAACC1hOIAAAAAAAAApJZQHAAAAAAAAIDUEooDAAAAAAAAkFpCcQAAAAAAAABSSygOAAAAAAAAQGoJxQEAAAAAAABILaE4AAAAAAAAAKklFAcAAAAAAAAgtYTiAAAAAAAAAKSWUBwAAAAAAACA1BKKAwAAAAAAAJBaQnEAAAAAAAAAUksoDgAAAAAAAEBqCcUBAAAAAAAASC2hOAAAAAAAAACpJRQHAAAAAAAAILWE4gAAAAAAAACkllAcAAAAAAAAgNQSigMAAAAAAACQWkJxAAAAAAAAAFJLKA4AAAAAAABAagnFAQAAAAAAAEgtoTgAAAAAAAAAqSUUBwAAAAAAACC1hOIAAAAAAAAApJZQHAAAAAAAAIDUEooDAAAAAAAAkFpCcQAAAAAAAABSSygOAAAAAAAAQGoJxQEAAAAAAABILaE4AAAAAAAAAKklFAcAAAAAAAAgtYTiAAAAAAAAAKSWUBwAAAAAAACA1BKKAwAAAAAAAJBaQnEAAAAAAAAAUksoDgAAAAAAAEBqCcUBAAAAAAAASC2hOAAAAAAAAACpJRQHAAAAAAAAILWE4gAAAAAAAACkllAcAAAAAAAAgNQSigMAAAAAAACQWkJxAAAAAAAAAFJLKA4AAAAAAABAagnFAQAAAAAAAEgtoTgAAAAAAAAAqSUUBwAAAAAAACC1hOIAAAAAAAAApJZQHAAAAAAAAIDUEooDAAAAAAAAkFpCcQAAAAAAAABSSygOAAAAAAAAQGoJxQEAAAAAAABILaE4AAAAAAAAAKklFAcAAAAAAAAgtYTiAAAAAAAAAKSWUBwAAAAAAACA1BKKAwAAAAAAAJBaQnEAAAAAAAAAUksoDgAAAAAAAEBqCcUBAAAAAAAASK3Cqm5AWcXFxfHaa6/FiBEjYsqUKTFv3rzIz8+Ppk2bxi233BKLFi2K4447LhYtWhS1a9eOO++8M9q0aVPVzQZqiMWLF8fjjz8eX375ZUREbLXVVtGoUaMYPXp0fPXVV9GqVau44IILoqioKB5//PGYMWNGtGrVKvr27RtFRUUxZ86cGDRoUMycOTOaN28egwcPjrp165Y77rx58+KKK67IDL/ggguioKAghg4dGv/973+jTZs2ceKJJ0bdunXLHXdlbSjtQ9nhxcXFK8y3qKgo3n777fj+++9j4403ji5dukRBQUGlLcMZM2ZEixYtolOnTjF37txo1KhRfPrpp/H1119ntbeiiouL10t710R1aAPUZB9++GGcdNJJmddDhgyJzp07V2GLKse7774bAwcOzLy++eabY5tttqnCFlWO8mpi48aNq7pZ1ECzZs2KgQMHxpw5c6Jx48Zx8803xyabbFLVzaIaOOSQQ2L27NmZ102aNInHHnusytpT3fzhD3+IV199NfN6l112iauvvroKW1T9qHWrVt5+bIMGDaq6WdWG359Vs/+dfmPHjo1HHnkkXnjhhViyZEnk5+dHnTp1orCwMBo3bhx5eXnx+eefZ01Tt27dyMvLi4iI2rVrR/v27aNly5bx7rvvxjfffBOFhYWx9dZbR4sWLaJt27arPPZUevzqiy++iO+++y6aNGkS7733XiRJEgsXLoxWrVpF+/btV3lsbmXrtMWLF8ejjz4aEyZMiK+++irq1asXO+ywQ5xyyilRt27dcttROt+99947rr322vjyyy9jwYIFK7RjZf1Y/vhgdVCRZVbe3/qCBQvWqX6szTJZvHhxjBw5MkaPHh2LFy+OLbfcMgYNGqRuwRpasGBBufnGhpSXJEmyNhPOnTs3GjduHHPmzIlGjRqtc0MmTJgQgwcPjkWLFq3RdAUFBfH888/Hxx9/HCeccELcfvvtscUWW6xze6g8pd/N/J8fHCX1m1Z1c1Yqf/63Uf/9URu0naWf6fe2+ll+nTJkyJAYOXJkFBcXr/G8CgoKMhvIFRm3cePG8f3331do3g0aNKjwfDfffPOYMmVKhfpQGqCXatGiRZxyyimx5557Vqhd5VmTZVhQUBD9+vXLCrhWZsKECXHrrbfG119/XantXRPrsw2VXW8re36l7rvvvrj77rtjYauusaR110qbb1VL63o6bdtNe+2110rfGzdu3AZrR2VLa7+OPPLIzAlmZbVu3TqGDx9eBS2ipurTp0+521ENGjSIJ554Yp3mnSv1+7rrrotRo0bFwQcfHL///e8rbb65Lq3r38pi+ayeWrdqJ510Unz44YcrDO/cuXMMGTKkClpUvfj9WbX1fQwgF2r4qvbnyjsOu7bHPKtif/jyyy+P5557boN81sqOPa3pMcCVHZsrb502ZMiQePDBB2NlkUz37t1j8ODBa9WOstOubPo1Od62PlWkDpT3t15YWBhLly5d5XSrsjbLZMiQITFixIhy31O3oOIGDRoUL7/88grDl193ra2K1ttqcfv0CRMmxEUXXbRCIJ6fX37zzj777EyniouLY++9917vbQRqrtKNnzp16kRExE477RQbb7xx5v3S4WWvKmrevHk88sgjcc4550SSJJmN41122SVuvvnmaNGiRWbcxo0bZ41bGojvt99+ceedd2bNd+ONN477778//ud//iciIjPf0nE7dOhQbhsKCwvjww8/jMLCwjjnnHPikUceiU033TQzbufOneP++++PX/ziFxGx7AzILl26xFNPPRW33HJLdOrUKS6++OKYMGHCOi3DRo0axcEHHxwREZtuumnmTMxatWpl2nPwwQdHo0aNYsSIEavdsJwwYUJcfPHF0alTp7jlllsqrb1rojq0AWqysgfm8/Ly4tBDD81cHbD8+7lk+Xb37t17le/nirIHeUtr4i677BIREV9++WUceeSRVdk8apCygXiHDh3i8ssvz2xHzZs3L/r06VOFraMqrW79mqvr38pi+ayeWrdqpUFIXl5eZj92v/32i7y8vBXu/FMT+f1ZNfvf6TZkyJANFohHLAtYlz/2VHr8qrBw2Q12V5ZPlLX8sbmVrdNK510aiOfl5UXXrl2zrpJ8+eWXY9CgQVnH0c4555ysY3ilyh4DLDtt2c8qnb70+GBFj7etTxWpA+X9rbdv3z4TiHfp0mWN68faLJPlA/E999wzjjrqqMzxTHULKqY0EK9Vq1b8z//8TybfqFWrVta6a0Oo8lC8uLg4brnllhWGjxo1KsaOHRvbbbfdCu/ttttuMWrUqHj44Ycz8/j222/Xe1uBmmfp0qUxcuTI2GijjaJBgwax++67x0UXXRTff/995OXlRePGjWPJkiWxyy67xKxZszK3M5s5c2bUrl079thjjygpKYmIZWceXnbZZbHFFlvErFmzMif3zJkzJwoLC2OvvfbKjBsRcc4550Tr1q1j1qxZkZ+fH3l5efH9999HkyZNMqF4qbPOOivatWsXX3zxRTRq1Cjy8vIybdhvv/1iyZIlkZeXF0uWLIn99tsv6tWrF5988kkUFBTERhttFFOmTImf/exnMXXq1Nh1112jVq1a8fbbb0deXl5svfXWcdlll0W3bt3itttuW+Or5UtvMbTRRhvFiBEj4tVXX43dd989brnllky7SkpK4pZbbondd989Jk2aFCNGjIiNNtooRo4cmXXFelnFxcVx6623Rrdu3eKyyy6LrbfeOurVq7fO7V0T1aENUJOVPbN82LBh8eKLL8Zpp50WL774YgwbNqzc8XLBu+++m/n/nXfeGePGjYtzzz03xo0bF3feeWe54+WCOXPmZA7yPvXUU3H11VfHNttsE1dffXU89dRTEbHsYO+cOXOqspnUALNmzcocvBw1alQMGzYsdt999xg2bFiMGjUqIpYd3Jw1a1ZVNpMqcMghh2T+v9VWW8W4ceMyP1tttVW549Ukf/jDHzL/79u3b9by6du3b7nj1TRq3arNmzcvE4Q8/fTTceGFF8Zmm20WF154YTz99NOZYKMid0NLI78/q2b/O91Kjx3Vrl17vX7OyJEjM/9ftGhR1rGnssevFi9eHI0aNYqSkpKsk67z8/NX+iiDs846a6XrtMWLF8dDDz2UGbewsDCeffbZuP7662P06NGx0UYbZd57+eWXs46L7bXXXvHJJ5+s8Hm33357PPPMM5n2FRQUxMsvvxxz5szJ9GPkyJHRp0+f+NnPfhZ9+vTJGr6y423rU0XrwE033ZT1t15SUhKfffZZ5OXlZY7BduzYscL1o+x3W9Flsvx39swzz8Sll14aAwYMiKeeeiqaNGkSEVGj6xZUxIIFCzKB+JNPPhknnHBCtGnTJk444YR48sknM8H4ggULNkh7KvxM8UWLFmVdyT137txKacDbb78dM2fOzBrWoUOHTFj0wQcfrDDNwIED48EHH4ymTZtGw4YN48cff4w///nPERHx2WefVUq7qDy+k9WzjKqf0u9k3LhxUVxcHPvuu2889NBDcdFFF8VVV10VERH77rtvbLvttnHttdfGwoULIyJi//33jx9++CHGjBkTV1xxRWZntUOHDjF9+vR4/PHHI2LZztwJJ5wQ48ePj0mTJsWgQYMyG9VbbbVVfPDBB1nPLz/iiCNi1qxZmfmWKp3v0KFDo3Xr1pn5vvXWW5lxt99++ygpKYn99tsvnnvuuaz5/vrXv46WLVvGtddeG0OHDo2vv/46/vSnP0WnTp3igQceiKFDh8aZZ54Z+fn5ceSRR8app54ab7/9dnTtWvHbYz/++ONRXFwcxx57bLz//vuZzxg9enQkSRL77rtvjBkzJkaPHp35jPfffz8GDBgQ1157bTz++OPRr1+/Feb79ttvZ+a1/Jm769LeNVEd2rA666t+1zRpW0+npT+lZ2Tn5eWtcJZ8hw4dIi8vL5IkiZNOOimnbuda9hnim222WdZ7ZV8PHDgwp/pVeubvLrvsEvXq1ct6r169erHzzjtnauLNN99cFU2khij9Gyu731mqUaNG0b59+/jss88y+51VQf2uGmWfIX7bbbdlvXfbbbdlroIuO15NUvYZ4meddVbWe2eddVZmX6fseDWNWrdqpfuy++67b+aOa6Xq1KkT++yzT2Y/tjJuo5lr/P6sWi7sf0ds2Bpe3n7d+tjX2xD7j2PHjl3pCQ2dO3de5xOd69evH/Pnz4/hw4dnjrtFRGy33XYxbty4rON1pcM22WSTmDt3brRu3Tr++9//Zv4Gu3btGuPGjYt69erFTz/9FHXq1ImFCxdmjqFFrLhOKz02V+rwww/PXG1cWFiYOQZW1rHHHhuFhYWZdWebNm2y2lF6vKz0c5o3bx4zZsyIQYMGZY7DlV7xXqrsZ63seNv6VNE6MGvWrLjkkksyf+tlp+vbt2/W33pF6kfZY5MVXSaPP/545jvbb7/9stpbWFgYxx57bOY7q6l1Cypi6NChERHRr1+/zHqvVFFRURx22GFZOcT6VuFQ/IorrsgEz5WpvOfmnnDCCZn/L1myZIX3y54Recwxx8SNN96YOYvHyodc5Pe2+iq9QqhVq1YREdGxY8eYMWNGRCzbgC09K7B0vdS6devMhtiMGTMyZwoef/zxMWjQoMy0ERHdunWLdu3axaRJk2LmzJkxf/78iFi20XvOOefEjBkz4r///W9ERBx44IHx008/ZeZbqnS+//3vfzNnhnbr1i222GKLzLjNmjXLtPe5555bYb6lG3Wlwzp27BiNGjWKBx54IDOsdHhE+evtVSltb7du3WLy5MmZeY0dOzbTrtK2lt4e+Pvvv49u3bplTb+80naUtmt5a9veNVEd2rA666t+1zTW09Xbr371q3KHH3TQQZmrPnPR8rdML1V6klOuKT0R9qijjir3/d/97neZmgjrU+l2W9n9zrKOPfbYuOiii6r0Sjz1G3KTWrdqZfely9OvX78V9nlrEr8/q5YL+98RG7aGb6j91A25P1xeML7bbrutcyheGoT+97//jWOOOSZzV5PSY2Jl1zultzMvzSUaNmwYEcv+NidNmrRCmNuwYcNYuHBh1jG0iOx1WumxuVIHHnhg1uvSY2DlDStt2/LtKB1e+jmlAXLpOqK8eZY33w2ponUgIvtvvex0pcdoy/6tr65+lD02WZ7ylknZ/5fX3rLzqql1CyqibA5RngMPPHCFHGJ9qnAofsEFF8Tvf//7zOu5c+dG27Zt17kBZZ/LW+r222+P3XffPSKWPWd2+Vt5lL1FyT333BMRy84oWLRoUQwaNCjat2+/zu2i8nz22WfChNXwe1v9lP7elj7Pu3TjZtq0adGqVauYNm1aPPTQQ7HttttGxP+tl7788svM7WxbtWoVc+bMiVmzZsUdd9yRGVZq4sSJMX78+IhY9vzvxo0bx7Rp0+Kuu+7KjJskSbz22mvx1FNPrRDQT5s2LTPfNm3aZIZPnDgx3nrrrcy4pcNLb/mz/HxbtmyZmcdrr70W06ZNi5deeikzrNS0adMiovz19qqUbVfr1q2zluPy7Sr7GRMnTlxhmZVV2o5p06bF1ltvvcL7a9veNVEd2rA666t+1zRpW0+nrTY/+uijcdppp60wfPTo0VXQmsrz5JNPxrnnnrvC8FwMxCOW1bpZs2bFfffdF1dfffUK7//973/PjAfrU+PGjWPhwoVZ+51llW6LrezWmBuC+g25Sa1btbL70hdeeOEK75fe1nhl+4Bp5/dn1XJh/ztiw9bw8vZT18e+3obYHx47dmw89NBDUVBQsEIw/p///Ged51/6LOo2bdpk8oSIyNz5sex6p/QWvrVq1YqIiB9//DEiIu67776saUqVvl/2GFpE9jpt+fXaU089lXWCZukxsLImTpwYffr0yaw7l29H6TxLP6f0qubSdUnp9OXNd/k+bygVrQMR2X/rZacrfWRL2b/11dWPsscmK7pMyv6/vPaW/c5qat2CiijNHJZf75UqfUTM8uvQ9aXCoXjt2rXXyzM9unTpEs2bN886y3H69Okxd+7caNCgQWy11VaZcKdU6S2Cvv3220wxuPjii+PCCy+M9u3bxxZbbFHp7YT1ye9t9bXXXnvFI488krkN0fDhw+P888+Pgw8+OMaMGROvvPJKFBQUZM4SffbZZzNXFV1wwQVRXFwcffv2jenTp0dBQUFmw23IkCFx++23Z26jNXjw4CgoKIg+ffpkbuHUt2/fKC4ujsceeyxGjBgRSZJk5hsR0adPn5g+fXpERJx44olRUFCQmW/puvGCCy6IoqKiuO222zJnjZad74MPPhiNGjWKgoKCOPHEE+M///lP3HffffHGG29k5huxbMN6+PDh0bJly+jSpcsaLcO+ffvGkCFD4q677ooRI0ZEixYtYvjw4XHRRRfFrbfeGmPHjo2CgoI46KCD4tJLL42WLVvGz3/+87j00kuzltnyunTpkpnXZZddlnX7tHVp75qoDm1YnfVVv2sa6+nqaciQIXHSSSdFkiQxffr0rFuoT58+PbPeHDJkSBW1cO3cfPPNmds7T506NeuW6VOnTs0aL5cMHjw4+vbtG6+++mr89NNPWbcF/emnn2LSpEmZ8WB9uvnmm6Nfv36Z/c6yt1CfO3du5hahVfk3pn5XjSZNmmRujX7yySdn3UL95JNPzhqvJtpll10yt0a//vrrs26hfv3112eNV1Opdat2wQUXRJ8+fWLMmDHx+9//Putqy4ULF2buJla6z1vT+P1ZtVzY/47YsDV8Q+2nbojP6dChQzzyyCNRWFi4Qii+rleJR0Tm7oxHHnlk1i3D33rrrRWO17311luRl5eXuTil9BGEkyZNivz8/HjzzTcjYtnfZcT/heSlx9BKh5Vdp5UemysNrh966KHo379/FBUVxdKlS+Puu+9eoc133XVXHHDAAZl1Z+lVlKXrgr59+2Z9Tmm+Mnjw4PjVr36Vmb7s7cJLP2tVx9vWp4rWgU022STrb73sdLNnz876W69I/Sh7bLKiy6Rv376Z7+y5557Lau/SpUszJ9Ku6nOBZevGxx57LEaOHJlZ75VavHhxPPzww5nxNoT81Y+yfhUUFMSpp566wvCDDz449tlnnxUC8YiIf/3rX3HQQQfFYYcdlplH06ZN13tbgZqnsLAw+vXrFz/88EPMmzcv/v3vf8ell14aG2+8cSRJEnPmzIlatWrFq6++Gk2bNs0E4s2bN4+FCxfGhAkTMjtqxcXFMWjQoPjwww8zzyWKWHYV0pIlS+LFF1/M2qm75ppr4osvvoimTZtGSUlJJEkSG2+8cfzwww8xfPjwrHZed911MX369GjTpk3MnTs3kiTJtOHZZ5+NWrVqRZIkUatWrXj22Wdj/vz5semmm0ZxcXH88MMPsfnmm8e3334bm266abzyyiuxZMmS6NKlSyRJEu+991788Y9/jIkTJ8bJJ58cBQUFa7QMi4qKMsvwiCOOiJ133jn+/e9/xymnnJJpV35+fpxyyinx73//O3beeec44ogj4ocffij3WSOlCgoK4pRTTomJEyfGH//4x3jvvffip59+Wuf2ronq0AaoyTp37pz5f//+/aNnz55x3XXXRc+ePaN///7ljpcLttlmm8z/jzvuuNhrr73i8ssvj7322iuOO+64csfLBY0bN87cMeTAAw+Mc889N95+++0499xzM7fRat26dZVenUvNsMkmm0SDBg0iYtl+59FHHx0TJkyIo48+Og4++OCIiGjQoEHmjkHUHI899ljm/x988EHstddemZ/SE1eXH68mKXvl6uOPP561fEqfxbr8eDWNWrdqDRo0iM6dO0eSJNGrV68YPHhwfPzxxzF48ODo1atXJEkSnTt3zqyjaxq/P6tm/zvdSo8dlX0e+/pQNhCvXbt21rGnssevioqKYu7cuZGfn5852Tpi2QkYK3vEznXXXbfSdVpRUVHWLbiXLl0a+++/f5xxxhnRp0+f+OGHHzLvde/ePeu42IsvvhibbrrpCp93/PHHxwEHHJBpX3FxcXTv3j0aN26c6Ue/fv1i9OjR8e2338bo0aOzhq/seNv6VNE6cNppp2X9refn50e7du0iSZJ49dVXY5NNNolPPvmkwvWj7Hdb0WWy/Hd2wAEHxJ/+9Ke4884748ADD8ycSFmT6xZURN26daN79+6xZMmS6N27dwwdOjS++OKLGDp0aPTu3TuWLFkS3bt3zzy6Yn3LS8qu1dfA3Llzo3HjxjFnzpysM+vX1oQJE2Lw4MFrXPgKCgri+eefj48//jhOOOGEuP32213JVc2Ufjfzf35wlNSvvicv5M//Nuq/P2qDtrP0M/3eVj/Lr1OGDBkSI0eOLPfZRqtTUFAQdevWzTxffHXjNm7cuMLPwGrQoEGF57v55pvHlClTKtSHoqKirEdXtGzZMk4++eTYc889K9Su8qzJMiwoKIh+/frFSSedtNpxJ0yYELfeemt8/fXXldreNbE+21DZ9bay51fqvvvui7vvvjsWtuoaS1p3rbT5VrW0rqfTtt201157rfS9cePGbbB2VLa09uvII4/MXG1RVuvWrVc46QvWpz59+pS7HdWgQYN44okn1mneuVK/r7vuuhg1alQcfPDBWbd6renSuv6tLJbP6ql1q3bSSSeVe+Vn586dc+4OP+uD359VW9/HAHKhhq9qf66847Bre8yzKvaHL7/88g32uKiVHXta02OAKzs2V946bciQIfHggw/GyiKZ7t27Z+4GsabtKDvtyqZfk+Nt61NF6kB5f+uFhYWZW+GvbLpVWZtlMmTIkBgxYkS576lbUHGDBg2Kl19+eYXhy6+71lZF622Fb5++vu25557RvXv3eO2112LEiBExZcqUmDdvXuTn50fTpk3jlltuiUWLFsVxxx0XixYtitq1a8edd965we4zD9RsJ510UgwYMCAef/zxzM7pVlttFY0aNYrRo0fHV199Fa1atcrcEunxxx+PGTNmRKtWraJv375RVFQUc+bMiUGDBsXMmTOjefPmMXjw4Khbt265486bNy+uuOKKzPALLrggCgoKYujQofHf//432rRpEyeeeGImbF9+3JW1YfHixSsMLy4uXmG+RUVF8fbbb8f3338fG2+8cXTp0mWdz7YuuwxnzJgRLVq0iE6dOmVuW/rpp5/G119/ndXeiiitH5Xd3jVRHdoANdm4cePiww8/zNqJHTJkSM5dIb68cePGxbvvvpu5lXrEsts559oV4ssbPnx4uTWxpl71RNV54oknYtasWTFw4MCYM2dONG7cOG6++WZXiBPjxo2LQw45JHMFUMSyW6bX1CvElzdu3Lj4wx/+kLmVesSyW6bX5CvEl6fWrdqQIUPK3Y91pd0yfn9Wzf53uh122GHx3HPPxeGHHx5z5syJF154IZYsWRL5+flRp06dKCwsjMaNG0deXl58/vnnWdPWrVs38vLyImLZVeDt27ePli1bxrvvvhvffPNNFBYWxtZbbx0tWrSItm3brvTYU9njV1988UV899130aRJk3jvvfciSZJYuHBhtGrVKtq3b7/KY3PlrdNK5/3oo4/GhAkT4quvvop69erFDjvsEKecckrWlZLLH0dr1apV7L333nHttdfGl19+GQsWLFihHSvrx/LHB6taRerAyv7WFyxYsNb1Y22WSek0I0eOjNGjR8fixYtjyy23jEGDBqlbsAYGDx4cCxYsKDff2JCqzZXi6yptVzyliSvFV/+Zfm+rH+sUqotcOEs9wpXiucY6DmD9ypX67UpxAMiWCzU8zVeK21cFYG1UtN5W+TPFAQAAAAAAAGB9EYoDAAAAAAAAkFpCcQAAAAAAAABSSygOAAAAAAAAQGoJxQEAAAAAAABILaE4AAAAAAAAAKklFAcAAAAAAAAgtYTiAAAAAAAAAKSWUBwAAAAAAACA1BKKAwAAAAAAAJBaQnEAAAAAAAAAUksoDgAAAAAAAEBqCcUBAAAAAAAASC2hOAAAAAAAAACpJRQHAAAAAAAAILWE4gAAAAAAAACkllAcAAAAAAAAgNQSigMAAAAAAACQWkJxAAAAAAAAAFJLKA4AAAAAAABAagnFAQAAAAAAAEgtoTgAAAAAAAAAqSUUBwAAAAAAACC1hOIAAAAAAAAApJZQHAAAAAAAAIDUEooDAAAAAAAAkFpCcQAAAAAAAABSSygOAAAAAAAAQGoJxQEAAAAAAABILaE4AAAAAAAAAKklFAcAAAAAAAAgtYTiAAAAAAAAAKSWUBwAAAAAAACA1BKKAwAAAAAAAJBaQnEAAAAAAAAAUksoDgAAAAAAAEBqCcUBAAAAAAAASC2hOAAAAAAAAACpJRQHAAAAAAAAILWE4gAAAAAAAACkllAcAAAAAAAAgNQSigMAAAAAAACQWkJxAAAAAAAAAFJLKA4AAAAAAABAagnFAQAAAAAAAEgtoTgAAAAAAAAAqSUUBwAAAAAAACC1hOIAAAAAAAAApJZQHAAAAAAAAIDUEooDAAAAAAAAkFpCcQAAAAAAAABSSygOAAAAAAAAQGoJxQEAAAAAAABILaE4AAAAAAAAAKklFAcAAAAAAAAgtYTiAAAAAAAAAKSWUBwAAAAAAACA1BKKAwAAAAAAAJBaQnEAAAAAAAAAUksoDgAAAAAAAEBqCcUBAAAAAAAASC2hOAAAAAAAAACpJRQHAAAAAAAAILWE4gAAAAAAAACkllAcAAAAAAAAgNQSigMAAAAAAACQWkJxAAAAAAAAAFJLKA4AAAAAAABAagnFAQAAAAAAAEgtoTgAAAAAAAAAqSUUBwAAAAAAACC1hOIAAAAAAAAApJZQHAAAAAAAAIDUEooDAAAAAAAAkFqpCcXbtWsXt99+e7Rr166qmwKkgHUKrJmmTZtGRERSVK+KW0JFWMcBEBGx6aabZv0LAFR/ad6fS3PfAKh6hVXdgMpSp06d2GKLLaq6GUBKWKfAmqlVq9ay/+QVVG1DqBDrOAAiIurVq5f1LwBQ/aV5fy7NfQOg6qXmSnEAAAAAAAAAWJ5QHAAAAAAAAIDUEooDAAAAAAAAkFpCcQAAAAAAAABSSygOAAAAAAAAQGoJxQEAAAAAAABILaE4AAAAAAAAAKklFAcAAAAAAAAgtYTiAAAAAAAAAKSWUBwAAAAAAACA1BKKAwAAAAAAAJBaQnEAAAAAAAAAUksoDgAAAAAAAEBqCcUBAAAAAAAASC2hOAAAAAAAAACpJRQHAAAAAAAAILWE4gAAAAAAAACkllAcAAAAAAAAgNQSigMAAAAAAACQWkJxAAAAAAAAAFJLKA4AAAAAAABAagnFAQAAAAAAAEgtoTgAAAAAAAAAqSUUBwAAAAAAACC1hOIAAAAAAAAApJZQHAAAAAAAAIDUEooDAAAAAAAAkFpCcQAAAAAAAABSSygOAAAAAAAAQGoJxQEAAAAAAABILaE4AAAAAAAAAKklFAcAAAAAAAAgtYTiAAAAAAAAAKSWUBwAAAAAAACA1BKKAwAAAAAAAJBaQnEAAAAAAAAAUksoDgAAAAAAAEBqCcUBAAAAAAAASC2hOAAAAAAAAACpJRQHAAAAAAAAILWE4gAAAAAAAACkllAcAAAAAAAAgNQSigMAAAAAAACQWkJxAAAAAAAAAFJLKA4AAAAAAABAagnFAQAAAAAAAEgtoTgAAAAAAAAAqSUUBwAAAAAAACC1hOIAAAAAAAAApJZQHAAAAAAAAIDUEooDAAAAAAAAkFpCcQAAAAAAAABSSygOAAAAAAAAQGoJxQEAAAAAAABILaE4AAAAAAAAAKklFAcAAAAAAAAgtYTiAAAAAAAAAKSWUBwAAAAAAACA1BKKAwAAAAAAAJBaQnEAAAAAAAAAUksoDgAAAAAAAEBqCcUBAAAAAAAASC2hOAAAAAAAAACpJRQHAAAAAAAAILWE4gAAAAAAAACkllAcAAAAAAAAgNQSigMAAAAAAACQWkJxAAAAAAAAAFJLKA4AAAAAAABAagnFAQAAAAAAAEgtoTgAAAAAAAAAqSUUBwAAAAAAACC1hOIAAAAAAAAApJZQHAAAAAAAAIDUEooDAAAAAAAAkFpCcQAAAAAAAABSSygOAAAAAAAAQGoVVnUDqDnyF86p6iasUv6C2Vn/bpDPrObLBGBN5S2eF/nzv63qZlQa62kAAAByTdl92bU95ml/GIC0EYqz3jVu3DhqFdWO+HR8VTelQupOm7BBP69WUe1o3LjxBv1MgMrWtm3byM8viDpfvhHx5RtV3ZxKZT0NQFp17Ngxtttuu+jYsWNVNwUAqASrOg67Nsc87Q8DkCZCcda75s2bx/1/vy/mzHF2YXkaN24czZs3r+pmAKyTzp07xwMP/COV63rraQDSarPNNosbbrihqpsBAFSSyj4Oa38YgDQRirNBNG/e3AYUQMpZ1wMAAEDVsm8OAOXLr+oGAAAAAAAAAMD6IhQHAAAAAAAAILWE4gAAAAAAAACkllAcAAAAAAAAgNQSigMAAAAAAACQWkJxAAAAAAAAAFJLKA4AAAAAAABAagnFAQAAAAAAAEgtoTgAAAAAAAAAqSUUBwAAAAAAACC1hOIAAAAAAAAApJZQHAAAAAAAAIDUEooDAAAAAAAAkFpCcQAAAAAAAABSSygOAAAAAAAAQGoJxQEAAAAAAABILaE4AAAAAAAAAKklFAcAAAAAAAAgtYTiAAAAAAAAAKSWUBwAAAAAAACA1BKKAwAAAAAAAJBaQnEAAAAAAAAAUksoDgAAAAAAAEBqCcUBAAAAAAAASC2hOAAAAAAAAACpJRQHAAAAAAAAILWE4gAAAAAAAACkllAcAAAAAAAAgNQSigMAAAAAAACQWkJxAAAAAAAAAFJLKA4AAAAAAABAagnFAQAAAAAAAEgtoTgAAAAAAAAAqSUUBwAAAAAAACC1hOIAAAAAAAAApJZQHAAAAAAAAIDUEooDAAAAAAAAkFqFazthkiQRETF37txKawwAkK20zpbW3XWlfgPA+qd+A0BuUsMBIPdUtH6vdSj+448/RkRE27Zt13YWAEAF/fjjj9G4ceNKmU+E+g0AG4L6DQC5SQ0HgNyzuvqdl6zlaW8lJSUxY8aMaNiwYeTl5a11AyOWJfht27aNL774Iho1arRO86pu0to3/co9ae1bWvsVkd6+pbVfEeunb0mSxI8//hitWrWK/Px1f+pJZdbvstL6vepXbtGv3JLWfkWkt2/6VXHqdzpYPqtm+ayeZbRqls+qWT6rtr6WTy7UcL8blc8yrVyWZ+WzTCuX5Vn5qnqZVrR+r/WV4vn5+dGmTZu1nbxcjRo1Su0vYFr7pl+5J619S2u/ItLbt7T2K6Ly+1YZZ6eXWh/1u6y0fq/6lVv0K7ektV8R6e2bflWM+p0els+qWT6rZxmtmuWzapbPqq2P5ZMrNdzvRuWzTCuX5Vn5LNPKZXlWvqpcphWp3+t+uhsAAAAAAAAAVFNCcQAAAAAAAABSq1qE4rVr146LL744ateuXdVNqXRp7Zt+5Z609i2t/YpIb9/S2q+IdPdtddLad/3KLfqVW9Lar4j09k2/0qcm970iLJ9Vs3xWzzJaNctn1SyfVavJy6cm9319sUwrl+VZ+SzTymV5Vr5cWaZ5SZIkVd0IAAAAAAAAAFgfqsWV4gAAAAAAAACwPgjFAQAAAAAAAEgtoTgAAAAAAAAAqVUtQvFbbrklOnToEHXq1Ildd901Xn311apu0hqZMGFCHHTQQdGqVavIy8uLxx57LOv9JEnioosuipYtW0bdunVjn332iSlTplRNY9fAFVdcETvvvHM0bNgwmjVrFoccckh89NFHWeMsXLgwTj311PjZz34WDRo0iEMPPTRmzpxZRS2uuNtuuy26dOkSjRo1ikaNGkW3bt3i6aefzryfq/1a3pVXXhl5eXlx5plnZoblat8uueSSyMvLy/rp3Llz5v1c7VdExJdffhm//e1v42c/+1nUrVs3tt1223jttdcy7+fqOqRDhw4rfGd5eXlx6qmnRkTufmfFxcXxpz/9KTp27Bh169aNTTfdNP7yl79EkiSZcXL1O1tbuV7Hy7O62p6rKlLbc9Hq6npalFfXc9HqanouW11Nz0Wrq+e5qiL1vCZIYw2vDGndDqgsad2eqCw1ZbuksqRl+6YypXlbqbKkcZtrTajfFVMZx+y///77OPLII6NRo0bRpEmTOPbYY2PevHkbsBfVR2VlBZ9//nn07t076tWrF82aNYtzzz03li5duiG7Um1URkZhea7c2mYjlun/qYxMprotzyoPxR988MH4/e9/HxdffHG88cYbsd1228X+++8f33zzTVU3rcLmz58f2223Xdxyyy3lvn/11VfHjTfeGEOGDIlXXnkl6tevH/vvv38sXLhwA7d0zYwfPz5OPfXU+M9//hNjxoyJJUuWxH777Rfz58/PjHPWWWfF6NGjY+TIkTF+/PiYMWNG/OpXv6rCVldMmzZt4sorr4zXX389XnvttfjlL38Zffv2jffeey8icrdfZU2aNCmGDh0aXbp0yRqey33beuut46uvvsr8vPTSS5n3crVfP/zwQ3Tv3j1q1aoVTz/9dLz//vtx7bXXxkYbbZQZJ1fXIZMmTcr6vsaMGRMREf369YuI3P3Orrrqqrjtttvi5ptvjg8++CCuuuqquPrqq+Omm27KjJOr39naSEMdL8/qanuuqkhtz0Wrq+tpsLK6nqtWVdNzVUVqei5aXT3PVRWp52mX1hpeGdK6HVBZ0ro9UVlqwnZJZUnb9k1lSuO2UmVJ6zZXRanfFVcZx+yPPPLIeO+992LMmDHxxBNPxIQJE+KEE07YUF2oViojKyguLo7evXvH4sWL49///nfce++9MWzYsLjooouqoktVbl0zCstz5dY2G7FMV7QumUy1XJ5JFdtll12SU089NfO6uLg4adWqVXLFFVdUYavWXkQk//znPzOvS0pKkhYtWiTXXHNNZtjs2bOT2rVrJw888EAVtHDtffPNN0lEJOPHj0+SZFk/atWqlYwcOTIzzgcffJBERDJx4sSqauZa22ijjZI777wzFf368ccfk8033zwZM2ZM0qNHj+SMM85IkiS3v7OLL7442W677cp9L5f7dd555yW/+MUvVvp+mtYhZ5xxRrLpppsmJSUlOf2d9e7dOxkwYEDWsF/96lfJkUcemSRJur6zikhbHS/P8rU9TZav7WlSWtfTYGV1PVetqqbnstXV9LQoW89z2erqeU1QE2p4ZUjzdkBlSfP2RGVJ03ZJZUnb9k1lSuu2UmWpKdtcK6N+r521OWb//vvvJxGRTJo0KTPO008/neTl5SVffvnlBmt7dbU2WcFTTz2V5OfnJ19//XVmnNtuuy1p1KhRsmjRog3bgWpqTTIKy7N865KNWKbZ1jWTqY7Ls0qvFF+8eHG8/vrrsc8++2SG5efnxz777BMTJ06swpZVnmnTpsXXX3+d1cfGjRvHrrvumnN9nDNnTkREbLzxxhER8frrr8eSJUuy+ta5c+do165dTvWtuLg4RowYEfPnz49u3bqlol+nnnpq9O7dO6sPEbn/nU2ZMiVatWoVnTp1iiOPPDI+//zziMjtfo0aNSp22mmn6NevXzRr1iy6du0ad9xxR+b9tKxDFi9eHPfff38MGDAg8vLycvo723333eP555+Pjz/+OCIi3nrrrXjppZeiV69eEZGe76wiakIdT7vla3saLF/X02BldT2Xraym57LV1fQ0WL6e57LV1fO0U8OpTGncnqgsadwuqSxp3L6pTGncVqosNWGba2XU78pTkWM3EydOjCZNmsROO+2UGWefffaJ/Pz8eOWVVzZ4m6ubtckKJk6cGNtuu200b948M87+++8fc+fOrfF3VFmbjMLyLN+6ZCOW6YrWJZOpjsuzsEo+9X99++23UVxcnLVAIiKaN28eH374YRW1qnJ9/fXXERHl9rH0vVxQUlISZ555ZnTv3j222WabiFjWt6KiomjSpEnWuLnSt3feeSe6desWCxcujAYNGsQ///nP+PnPfx6TJ0/O6X6NGDEi3njjjZg0adIK7+Xyd7brrrvGsGHDYsstt4yvvvoq/vznP8cee+wR7777bk7369NPP43bbrstfv/738eFF14YkyZNitNPPz2Kiori6KOPTs065LHHHovZs2dH//79IyK3fxfPP//8mDt3bnTu3DkKCgqiuLg4Bg8eHEceeWREpGe9XxE1oY6nWXm1PZetrK7nulXV9Vy1qpresGHDqm7eWltdTU+D5et5LltdPU87NZzKkrbticqS1u2SypLG7ZvKlNZtpcpSE7a5Vkb9rjwVOXbz9ddfR7NmzbLeLywsjI033jh1x3fW1NpmBV9//XW5y7z0vZpoXTIKy3NF65qNWKbZ1jWTqY7Ls0pDcXLHqaeeGu+++26qnmG05ZZbxuTJk2POnDnx8MMPx9FHHx3jx4+v6matky+++CLOOOOMGDNmTNSpU6eqm1Opyl6106VLl9h1112jffv28dBDD0XdunWrsGXrpqSkJHbaaae4/PLLIyKia9eu8e6778aQIUNStTN31113Ra9evaJVq1ZV3ZR19tBDD8Xw4cPjH//4R2y99dYxefLkOPPMM6NVq1ap+s5Iv7TV9pXV9Vw+AJ3Wur6qmn7sscdWYcvWTU2o6eo5sLy0bU9UljRul1SWtG7fVKa0bitVlpqwzQXVnfpfedKYUVQV2xiVL42ZTJXePr1p06ZRUFAQM2fOzBo+c+bMaNGiRRW1qnKV9iOX+zhw4MB44okn4sUXX4w2bdpkhrdo0SIWL14cs2fPzho/V/pWVFQUm222Wey4445xxRVXxHbbbRc33HBDTvfr9ddfj2+++SZ22GGHKCwsjMLCwhg/fnzceOONUVhYGM2bN8/Zvi2vSZMmscUWW8TUqVNz+jtr2bLlCgdGttpqq8xtSNKwDvnss89i7Nixcdxxx2WG5fJ3du6558b5558fRxxxRGy77bbxu9/9Ls4666y44oorIiId31lF1YQ6nlYrq+25bGV1PZetrq4XFxdXdRMrRdmanstWV9NzXXn1PJetrp6nnRpOZUjj9kRlSeN2SWWpKds3lSkt20qVJe3bXKuifleeihy7adGiRXzzzTdZ7y9dujS+//77Gr281yUraNGiRbnLvPS9mmhdMgrLM1tlZCOW6aqtaSZTHZdnlYbiRUVFseOOO8bzzz+fGVZSUhLPP/98ap611LFjx2jRokVWH+fOnRuvvPJKte9jkiQxcODA+Oc//xkvvPBCdOzYMev9HXfcMWrVqpXVt48++ig+//zzat+38pSUlMSiRYtyul977713vPPOOzF58uTMz0477RRHHnlk5v+52rflzZs3Lz755JNo2bJlTn9n3bt3j48++ihr2Mcffxzt27ePiNxeh5S65557olmzZtG7d+/MsFz+zn766afIz88unwUFBVFSUhIR6fjOKqom1PG0WV1tT5PSup7LVlfXCwoKqrqJlaJsTc9lq6vpua68ep7LVlfP004NZ13UpO2JypKG7ZLKUlO2bypTWraVKkvat7lWRf2uPBU5dtOtW7eYPXt2vP7665lxXnjhhSgpKYldd911g7e5qlVGVtCtW7d45513sk42GDNmTDRq1MjdVP7XmmQUlme2yshGLNNVW9NMplouz6SKjRgxIqldu3YybNiw5P33309OOOGEpEmTJsnXX39d1U2rsB9//DF58803kzfffDOJiOS6665L3nzzzeSzzz5LkiRJrrzyyqRJkybJ448/nrz99ttJ3759k44dOyYLFiyo4pav2sknn5w0btw4GTduXPLVV19lfn766afMOCeddFLSrl275IUXXkhee+21pFu3bkm3bt2qsNUVc/755yfjx49Ppk2blrz99tvJ+eefn+Tl5SXPPfdckiS526/y9OjRIznjjDMyr3O1b2effXYybty4ZNq0acnLL7+c7LPPPknTpk2Tb775JkmS3O3Xq6++mhQWFiaDBw9OpkyZkgwfPjypV69ecv/992fGydV1SJIkSXFxcdKuXbvkvPPOW+G9XP3Ojj766KR169bJE088kUybNi159NFHk6ZNmyZ/+MMfMuPk8ne2ptJQx8uzutqeqypS23PR6up6mixf13PR6mp6rqpITc9Vq6rnuaoi9Tzt0lrDK0NatwMqS1q3JypLTdouqSxp2L6pTGndVqosad7mqgj1u+Iq45j9AQcckHTt2jV55ZVXkpdeeinZfPPNk9/85jdV1aUqVRlZwdKlS5Ntttkm2W+//ZLJkycnzzzzTLLJJpskF1xwQVV0qcqta0Zhea7emmYjlmm2dc1kquPyrPJQPEmS5KabbkratWuXFBUVJbvsskvyn//8p6qbtEZefPHFJCJW+Dn66KOTJEmSkpKS5E9/+lPSvHnzpHbt2snee++dfPTRR1Xb6Aoor08Rkdxzzz2ZcRYsWJCccsopyUYbbZTUq1cv+X//7/8lX331VdU1uoIGDBiQtG/fPikqKko22WSTZO+9987aQc3VfpVn+RV/rvbt17/+ddKyZcukqKgoad26dfLrX/86mTp1aub9XO1XkiTJ6NGjk2222SapXbt20rlz5+T222/Pej9X1yFJkiTPPvtsEhHltjdXv7O5c+cmZ5xxRtKuXbukTp06SadOnZJBgwYlixYtyoyTy9/Z2sj1Ol6e1dX2XFWR2p6LVlfX0yQNB41XV9Nz2epqeq5aVT3PVRWp5zVBGmt4ZUjrdkBlSev2RGWpSdsllSUN2zeVKc3bSpUlrdtcFaV+V0xlHLP/7rvvkt/85jdJgwYNkkaNGiXHHHNM8uOPP1ZBb6peZWUF06dPT3r16pXUrVs3adq0aXL22WcnS5Ys2cC9qR4qI6OwPFdtbbIRy/T/VEYmU92WZ16SJEllX30OAAAAAAAAANVBlT5THAAAAAAAAADWJ6E4AAAAAAAAAKklFAcAAAAAAAAgtYTiAAAAAAAAAKSWUBwAAAAAAACA1BKKAwAAAAAAAJBaQnEAAAAAAAAAUksoDgAAAAAAAEBqCcUBAKAK5eXlxWOPPRYREdOnT4+8vLyYPHlylbYJANiwxo0bF3l5eTF79uyqbgoAAKSSUBxSYuLEiVFQUBC9e/eu6qYAAGXMmjUrTj755GjXrl3Url07WrRoEfvvv3+8/PLLERHx1VdfRa9evdZonv/85z9jt912i8aNG0fDhg1j6623jjPPPHM9tB4Aaqb+/ftHXl5e5OXlRVFRUWy22WZx6aWXxtKlS6u6aQBABZWt52V/pk6dWtVNA6pAYVU3AKgcd911V5x22mlx1113xYwZM6JVq1ZV3SQAICIOPfTQWLx4cdx7773RqVOnmDlzZjz//PPx3XffRUREixYt1mh+zz//fPz617+OwYMHx8EHHxx5eXnx/vvvx5gxY9ZH8wGgxjrggAPinnvuiUWLFsVTTz0Vp556atSqVSsuuOCCNZpPcXFx5OXlRX6+a1MAYEMrredlbbLJJms0D7Uc0sFfMKTAvHnz4sEHH4yTTz45evfuHcOGDct6f9SoUbH55ptHnTp1omfPnnHvvfeucFu2l156KfbYY4+oW7dutG3bNk4//fSYP3/+hu0IAKTM7Nmz41//+ldcddVV0bNnz2jfvn3ssssuccEFF8TBBx8cEdm3Ty/14Ycfxu677x516tSJbbbZJsaPH595b/To0dG9e/c499xzY8stt4wtttgiDjnkkLjlllsy41xyySWx/fbbx9ChQ6Nt27ZRr169OPzww2POnDkbpN8AkAald3hp3759nHzyybHPPvvEqFGj4rrrrottt9026tevH23bto1TTjkl5s2bl5lu2LBh0aRJkxg1alT8/Oc/j9q1a8fnn38eixYtivPOOy/atm0btWvXjs022yzuuuuurM98/fXXY6eddop69erF7rvvHh999NGG7jYApEppPS/7c8MNN6x1LT/nnHOidevWUb9+/dh1111j3LhxVdc5YI0IxSEFHnrooejcuXNsueWW8dvf/jbuvvvuSJIkIiKmTZsWhx12WBxyyCHx1ltvxYknnhiDBg3Kmv6TTz6JAw44IA499NB4++2348EHH4yXXnopBg4cWBXdAYDUaNCgQTRo0CAee+yxWLRoUYWnO/fcc+Pss8+ON998M7p16xYHHXRQ1pXl7733Xrz77rurnMfUqVPjoYceitGjR8czzzwTb775Zpxyyinr1B8AqMnq1q0bixcvjvz8/Ljxxhvjvffei3vvvTdeeOGF+MMf/pA17k8//RRXXXVV3HnnnfHee+9Fs2bN4qijjooHHnggbrzxxvjggw9i6NCh0aBBg6zpBg0aFNdee2289tprUVhYGAMGDNiQXQSAGmFta/nAgQNj4sSJMWLEiHj77bejX79+ccABB8SUKVOqqCfAmshLSpMzIGd17949Dj/88DjjjDNi6dKl0bJlyxg5cmTstddecf7558eTTz4Z77zzTmb8P/7xjzF48OD44YcfokmTJnHcccdFQUFBDB06NDPOSy+9FD169Ij58+dHnTp1qqJbAJAKjzzySBx//PGxYMGC2GGHHaJHjx5xxBFHRJcuXSJi2ZXi//znP+OQQw6J6dOnR8eOHePKK6+M8847LyIili5dGh07dozTTjst/vCHP8T8+fPj8MMPj6eeeirat28fu+22W+y3335x5JFHRu3atSNi2ZXil112WXz22WfRunXriIh45plnonfv3vHll1+u8S3bAaCm6d+/f8yePTsee+yxSJIknn/++ejTp0+cdtppcc0112SN+/DDD8dJJ50U3377bUQsu7rsmGOOicmTJ8d2220XEREff/xxbLnlljFmzJjYZ599Vvi8cePGRc+ePWPs2LGx9957R0TEU089Fb17944FCxbYLweAtdC/f/+4//77s+por169YuTIkVnjVaSWf/7559GpU6f4/PPPsx5dus8++8Quu+wSl19++QboEbAuXCkOOe6jjz6KV199NX7zm99ERERhYWH8+te/ztyC7aOPPoqdd945a5pddtkl6/Vbb70Vw4YNy1zN1qBBg9h///2jpKQkpk2btmE6AgApdeihh8aMGTNi1KhRccABB8S4ceNihx12WOFxJ2V169Yt8//CwsLYaaed4oMPPoiIiPr168eTTz4ZU6dOjT/+8Y/RoEGDOPvss2OXXXaJn376KTNdu3btMoF46TxLSkrchhUAKuiJJ56IBg0aRJ06daJXr17x61//Oi655JJMcN26deto2LBh/O53v4vvvvsuqw4XFRVlToCLiJg8eXIUFBREjx49VvmZZadp2bJlRER88803ldwzAKg5evbsGZMnT8783HjjjWtVy995550oLi6OLbbYIus4+vjx4+OTTz6piq4Ba6iwqhsArJu77rorli5dmnV2WpIkUbt27bj55psrNI958+bFiSeeGKeffvoK77Vr167S2goANVWdOnVi3333jX333Tf+9Kc/xXHHHRcXX3xx9O/ff63nuemmm8amm24axx13XAwaNCi22GKLePDBB+OYY46pvIYDQA3Ws2fPuO2226KoqChatWoVhYWFMX369OjTp0+cfPLJMXjw4Nh4443jpZdeimOPPTYWL14c9erVi4hlt1rPy8vLzKtu3boV+sxatWpl/l86fUlJSSX2CgBqlvr168dmm22Web22tXzevHlRUFAQr7/+ehQUFGR9xvKPQwGqJ6E45LClS5fGfffdF9dee23st99+We8dcsgh8cADD8SWW24ZTz31VNZ7kyZNynq9ww47xPvvv5+1cQAArD8///nP47HHHlvp+//5z39izz33jIhl9f7111+PgQMHrnT8Dh06RL169WL+/PmZYZ9//nnMmDEjc+Lcf/7zn8jPz48tt9yycjoBACm3/EH0iIjXX389SkpK4tprr438/GU3YHzooYdWO69tt902SkpKYvz48eXePh0A2DDWtpZ37do1iouL45tvvok99thjfTcTWA+E4pDDnnjiifjhhx/i2GOPjcaNG2e9d+ihh8Zdd90VDz30UFx33XVx3nnnxbHHHhuTJ0/O3K619Ey38847L3bbbbcYOHBgHHfccVG/fv14//33Y8yYMRW+2hwAWNF3330X/fr1iwEDBkSXLl2iYcOG8dprr8XVV18dffv2Xel0t9xyS2y++eax1VZbxfXXXx8//PBDDBgwICKWPS/8p59+igMPPDDat28fs2fPjhtvvDGWLFkS++67b2YederUiaOPPjr++te/xty5c+P000+Pww8/3PPEAWAdbLbZZrFkyZK46aab4qCDDoqXX345hgwZstrpOnToEEcffXQMGDAgbrzxxthuu+3is88+i2+++SYOP/zwDdByACBi7Wv5FltsEUceeWQcddRRce2110bXrl1j1qxZ8fzzz0eXLl2id+/eG6D1wLrwTHHIYXfddVfss88+KwTiEctC8ddeey1+/PHHePjhh+PRRx+NLl26xG233RaDBg2KiIjatWtHxLJnlo0fPz4+/vjj2GOPPaJr165x0UUXZd2SHQBYcw0aNIhdd901rr/++thzzz1jm222iT/96U9x/PHHr/LEsyuvvDKuvPLK2G677eKll16KUaNGRdOmTSMiokePHvHpp5/GUUcdFZ07d45evXrF119/Hc8991zWVeCbbbZZ/OpXv4oDDzww9ttvv+jSpUvceuut673PAJBm2223XVx33XVx1VVXxTbbbBPDhw+PK664okLT3nbbbXHYYYfFKaecEp07d47jjz8+6y4vAMD6ty61/J577omjjjoqzj777Nhyyy3jkEMOiUmTJnkEKeSIvCRJkqpuBLBhDR48OIYMGRJffPFFVTcFAFgPLrnkknjsscdi8uTJVd0UAAAAAKhybp8ONcCtt94aO++8c/zsZz+Ll19+Oa655ppVPpcUAAAAAAAA0kIoDjXAlClT4rLLLovvv/8+2rVrF2effXZccMEFVd0sAAAAAAAAWO/cPh0AAAAAAACA1Mqv6gYAAAAAAAAAwPoiFAcAAAAAAAAgtYTiAAAAAAAAAKSWUBwAAAAAAACA1BKKAwAAAAAAAJBaQnEAAAAAAAAAUksoDgAAAAAAAEBqCcUBAAAAAAAASC2hOAAAAAAAAACp9f8BOE+z9zIUu8AAAAAASUVORK5CYII=",
      "text/plain": [
       "<Figure size 2000x500 with 4 Axes>"
      ]
     },
     "metadata": {},
     "output_type": "display_data"
    }
   ],
   "source": [
    "# Create boxplots for numerical columns\n",
    "numerical_columns = ['Age', 'SibSp', 'Parch', 'Fare']\n",
    "\n",
    "plt.figure(figsize=(20, 5))\n",
    "\n",
    "for i, column in enumerate(numerical_columns, 1):\n",
    "    plt.subplot(1, 4, i)\n",
    "    sns.boxplot(x=df[column])\n",
    "    plt.title(f'Boxplot of {column}')\n",
    "\n",
    "plt.tight_layout()\n",
    "plt.show()"
   ]
  },
  {
   "cell_type": "markdown",
   "metadata": {},
   "source": [
    "all features have outliers. We need handle outliers.\n",
    "1. Age: binning Age into categories (e.g., child, adult, elderly)\n",
    "2. SibSp: capping SibSp at a reasonable value (e.g., 4) to reduce the impact of extreme values.\n",
    "3. Parch: capping Parch at a reasonable value (e.g., 4) to reduce the impact of extreme values.\n",
    "4. Fare : capping Fare at a reasonable value (e.g., 200) to reduce the impact of extreme values."
   ]
  },
  {
   "cell_type": "code",
   "execution_count": 16,
   "metadata": {},
   "outputs": [
    {
     "data": {
      "image/png": "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",
      "text/plain": [
       "<Figure size 2000x500 with 4 Axes>"
      ]
     },
     "metadata": {},
     "output_type": "display_data"
    }
   ],
   "source": [
    "#create countplot for categorical columns\n",
    "categorical_columns = ['Sex', 'Embarked', 'Survived', 'Pclass']\n",
    "\n",
    "plt.figure(figsize=(20, 5))  # Adjust figure size as needed\n",
    "\n",
    "for i, column in enumerate(categorical_columns, 1):\n",
    "    plt.subplot(1, 4, i)  # 1 row, 4 columns, i-th plot\n",
    "    sns.countplot(x=df[column], ax=plt.gca()) # Use countplot\n",
    "    ax = sns.countplot(x=df[column], ax=plt.gca())  # Store the axes object\n",
    "\n",
    "    # Add labels to the bars\n",
    "    for p in ax.patches:\n",
    "        ax.annotate(f'{p.get_height()}', (p.get_x() + p.get_width() / 2., p.get_height()),\n",
    "                    ha='center', va='center', fontsize=10, color='black', xytext=(0, 5),\n",
    "                    textcoords='offset points')\n",
    "\n",
    "    plt.title(f'Countplot of {column}')\n",
    "    plt.xlabel(column)\n",
    "    plt.ylabel('Frequency')\n",
    "\n",
    "plt.tight_layout()\n",
    "plt.show()"
   ]
  },
  {
   "cell_type": "markdown",
   "metadata": {},
   "source": [
    "Insights:\n",
    "1. Overwhelming male majority\n",
    "2. Southampton dominance for embarkation\n",
    "3. More death than survivors\n",
    "4. Third class predominance. "
   ]
  },
  {
   "cell_type": "markdown",
   "metadata": {},
   "source": [
    "HANDLE OUTLIERS"
   ]
  },
  {
   "cell_type": "code",
   "execution_count": 17,
   "metadata": {},
   "outputs": [
    {
     "name": "stdout",
     "output_type": "stream",
     "text": [
      "    Age AgeGroup\n",
      "0  22.0    Adult\n",
      "1  38.0    Adult\n",
      "2  26.0    Adult\n",
      "3  35.0    Adult\n",
      "4  35.0    Adult\n"
     ]
    }
   ],
   "source": [
    "# binning Age into categories (child, adult, elderly)\n",
    "bins_age = [0, 18, 60, np.inf]\n",
    "labels = ['Child', 'Adult', 'Elderly']\n",
    "\n",
    "# Create a new column 'AgeGroup' with binned age values\n",
    "df['AgeGroup'] = pd.cut(df['Age'], bins=bins_age, labels=labels)\n",
    "\n",
    "print(df[['Age', 'AgeGroup']].head())"
   ]
  },
  {
   "cell_type": "code",
   "execution_count": 18,
   "metadata": {},
   "outputs": [
    {
     "name": "stdout",
     "output_type": "stream",
     "text": [
      "   SibSp  Parch     Fare\n",
      "0      1      0   7.2500\n",
      "1      1      0  71.2833\n",
      "2      0      0   7.9250\n",
      "3      1      0  53.1000\n",
      "4      0      0   8.0500\n"
     ]
    }
   ],
   "source": [
    "# Cap SibSp at 4\n",
    "df['SibSp'] = df['SibSp'].clip(upper=4)\n",
    "\n",
    "#cap Parch at 4\n",
    "df['Parch'] = df['Parch'].clip(upper=4)\n",
    "\n",
    "#cap Fare at 200\n",
    "df['Fare'] = df['Fare'].clip(upper=200)\n",
    "\n",
    "print(df[['SibSp', 'Parch', 'Fare']].head())"
   ]
  },
  {
   "cell_type": "code",
   "execution_count": 19,
   "metadata": {},
   "outputs": [
    {
     "name": "stdout",
     "output_type": "stream",
     "text": [
      "   SibSp  Parch  FamilySize  FareGroup\n",
      "0      1      0           2        Low\n",
      "1      1      0           2  Very High\n",
      "2      0      0           1        Mid\n",
      "3      1      0           2  Very High\n",
      "4      0      0           1        Mid\n"
     ]
    }
   ],
   "source": [
    "# Create a new column 'FamilySize' by adding SibSp and Parch columns   \n",
    "df['FamilySize'] = df['SibSp'] + df['Parch'] + 1\n",
    "\n",
    "# Create FareGroup column by binning the 'Fare' column into 4 equal-sized bins\n",
    "df['FareGroup'] = pd.qcut(df['Fare'], q=4, labels=['Low', 'Mid', 'High', 'Very High']) \n",
    "\n",
    "print(df[['SibSp', 'Parch', 'FamilySize', 'FareGroup']].head())"
   ]
  },
  {
   "cell_type": "code",
   "execution_count": 20,
   "metadata": {},
   "outputs": [
    {
     "name": "stdout",
     "output_type": "stream",
     "text": [
      "<class 'pandas.core.frame.DataFrame'>\n",
      "RangeIndex: 891 entries, 0 to 890\n",
      "Data columns (total 11 columns):\n",
      " #   Column      Non-Null Count  Dtype   \n",
      "---  ------      --------------  -----   \n",
      " 0   Survived    891 non-null    int64   \n",
      " 1   Pclass      891 non-null    int64   \n",
      " 2   Sex         891 non-null    object  \n",
      " 3   Age         891 non-null    float64 \n",
      " 4   SibSp       891 non-null    int64   \n",
      " 5   Parch       891 non-null    int64   \n",
      " 6   Fare        891 non-null    float64 \n",
      " 7   Embarked    891 non-null    object  \n",
      " 8   AgeGroup    891 non-null    category\n",
      " 9   FamilySize  891 non-null    int64   \n",
      " 10  FareGroup   891 non-null    category\n",
      "dtypes: category(2), float64(2), int64(5), object(2)\n",
      "memory usage: 64.8+ KB\n"
     ]
    }
   ],
   "source": [
    "df.info()"
   ]
  },
  {
   "cell_type": "code",
   "execution_count": 21,
   "metadata": {},
   "outputs": [
    {
     "data": {
      "application/vnd.microsoft.datawrangler.viewer.v0+json": {
       "columns": [
        {
         "name": "index",
         "rawType": "object",
         "type": "string"
        },
        {
         "name": "Survived",
         "rawType": "float64",
         "type": "float"
        },
        {
         "name": "Pclass",
         "rawType": "float64",
         "type": "float"
        },
        {
         "name": "Age",
         "rawType": "float64",
         "type": "float"
        },
        {
         "name": "SibSp",
         "rawType": "float64",
         "type": "float"
        },
        {
         "name": "Parch",
         "rawType": "float64",
         "type": "float"
        },
        {
         "name": "Fare",
         "rawType": "float64",
         "type": "float"
        },
        {
         "name": "FamilySize",
         "rawType": "float64",
         "type": "float"
        }
       ],
       "conversionMethod": "pd.DataFrame",
       "ref": "49fe8cca-47fe-42e3-9e3d-3638f7b47c4a",
       "rows": [
        [
         "count",
         "891.0",
         "891.0",
         "891.0",
         "891.0",
         "891.0",
         "891.0",
         "891.0"
        ],
        [
         "mean",
         "0.3838383838383838",
         "2.308641975308642",
         "29.699117647643096",
         "0.48597081930415265",
         "0.37373737373737376",
         "30.423993714927047",
         "1.8597081930415265"
        ],
        [
         "std",
         "0.4865924542648575",
         "0.836071240977049",
         "13.002015226002884",
         "0.9084958770947132",
         "0.7633055365880063",
         "38.77078187687688",
         "1.4219244453332145"
        ],
        [
         "min",
         "0.0",
         "1.0",
         "0.42",
         "0.0",
         "0.0",
         "0.0",
         "1.0"
        ],
        [
         "25%",
         "0.0",
         "2.0",
         "22.0",
         "0.0",
         "0.0",
         "7.9104",
         "1.0"
        ],
        [
         "50%",
         "0.0",
         "3.0",
         "29.69911765",
         "0.0",
         "0.0",
         "14.4542",
         "1.0"
        ],
        [
         "75%",
         "1.0",
         "3.0",
         "35.0",
         "1.0",
         "0.0",
         "31.0",
         "2.0"
        ],
        [
         "max",
         "1.0",
         "3.0",
         "80.0",
         "4.0",
         "4.0",
         "200.0",
         "7.0"
        ]
       ],
       "shape": {
        "columns": 7,
        "rows": 8
       }
      },
      "text/html": [
       "<div>\n",
       "<style scoped>\n",
       "    .dataframe tbody tr th:only-of-type {\n",
       "        vertical-align: middle;\n",
       "    }\n",
       "\n",
       "    .dataframe tbody tr th {\n",
       "        vertical-align: top;\n",
       "    }\n",
       "\n",
       "    .dataframe thead th {\n",
       "        text-align: right;\n",
       "    }\n",
       "</style>\n",
       "<table border=\"1\" class=\"dataframe\">\n",
       "  <thead>\n",
       "    <tr style=\"text-align: right;\">\n",
       "      <th></th>\n",
       "      <th>Survived</th>\n",
       "      <th>Pclass</th>\n",
       "      <th>Age</th>\n",
       "      <th>SibSp</th>\n",
       "      <th>Parch</th>\n",
       "      <th>Fare</th>\n",
       "      <th>FamilySize</th>\n",
       "    </tr>\n",
       "  </thead>\n",
       "  <tbody>\n",
       "    <tr>\n",
       "      <th>count</th>\n",
       "      <td>891.000000</td>\n",
       "      <td>891.000000</td>\n",
       "      <td>891.000000</td>\n",
       "      <td>891.000000</td>\n",
       "      <td>891.000000</td>\n",
       "      <td>891.000000</td>\n",
       "      <td>891.000000</td>\n",
       "    </tr>\n",
       "    <tr>\n",
       "      <th>mean</th>\n",
       "      <td>0.383838</td>\n",
       "      <td>2.308642</td>\n",
       "      <td>29.699118</td>\n",
       "      <td>0.485971</td>\n",
       "      <td>0.373737</td>\n",
       "      <td>30.423994</td>\n",
       "      <td>1.859708</td>\n",
       "    </tr>\n",
       "    <tr>\n",
       "      <th>std</th>\n",
       "      <td>0.486592</td>\n",
       "      <td>0.836071</td>\n",
       "      <td>13.002015</td>\n",
       "      <td>0.908496</td>\n",
       "      <td>0.763306</td>\n",
       "      <td>38.770782</td>\n",
       "      <td>1.421924</td>\n",
       "    </tr>\n",
       "    <tr>\n",
       "      <th>min</th>\n",
       "      <td>0.000000</td>\n",
       "      <td>1.000000</td>\n",
       "      <td>0.420000</td>\n",
       "      <td>0.000000</td>\n",
       "      <td>0.000000</td>\n",
       "      <td>0.000000</td>\n",
       "      <td>1.000000</td>\n",
       "    </tr>\n",
       "    <tr>\n",
       "      <th>25%</th>\n",
       "      <td>0.000000</td>\n",
       "      <td>2.000000</td>\n",
       "      <td>22.000000</td>\n",
       "      <td>0.000000</td>\n",
       "      <td>0.000000</td>\n",
       "      <td>7.910400</td>\n",
       "      <td>1.000000</td>\n",
       "    </tr>\n",
       "    <tr>\n",
       "      <th>50%</th>\n",
       "      <td>0.000000</td>\n",
       "      <td>3.000000</td>\n",
       "      <td>29.699118</td>\n",
       "      <td>0.000000</td>\n",
       "      <td>0.000000</td>\n",
       "      <td>14.454200</td>\n",
       "      <td>1.000000</td>\n",
       "    </tr>\n",
       "    <tr>\n",
       "      <th>75%</th>\n",
       "      <td>1.000000</td>\n",
       "      <td>3.000000</td>\n",
       "      <td>35.000000</td>\n",
       "      <td>1.000000</td>\n",
       "      <td>0.000000</td>\n",
       "      <td>31.000000</td>\n",
       "      <td>2.000000</td>\n",
       "    </tr>\n",
       "    <tr>\n",
       "      <th>max</th>\n",
       "      <td>1.000000</td>\n",
       "      <td>3.000000</td>\n",
       "      <td>80.000000</td>\n",
       "      <td>4.000000</td>\n",
       "      <td>4.000000</td>\n",
       "      <td>200.000000</td>\n",
       "      <td>7.000000</td>\n",
       "    </tr>\n",
       "  </tbody>\n",
       "</table>\n",
       "</div>"
      ],
      "text/plain": [
       "         Survived      Pclass         Age       SibSp       Parch        Fare  \\\n",
       "count  891.000000  891.000000  891.000000  891.000000  891.000000  891.000000   \n",
       "mean     0.383838    2.308642   29.699118    0.485971    0.373737   30.423994   \n",
       "std      0.486592    0.836071   13.002015    0.908496    0.763306   38.770782   \n",
       "min      0.000000    1.000000    0.420000    0.000000    0.000000    0.000000   \n",
       "25%      0.000000    2.000000   22.000000    0.000000    0.000000    7.910400   \n",
       "50%      0.000000    3.000000   29.699118    0.000000    0.000000   14.454200   \n",
       "75%      1.000000    3.000000   35.000000    1.000000    0.000000   31.000000   \n",
       "max      1.000000    3.000000   80.000000    4.000000    4.000000  200.000000   \n",
       "\n",
       "       FamilySize  \n",
       "count  891.000000  \n",
       "mean     1.859708  \n",
       "std      1.421924  \n",
       "min      1.000000  \n",
       "25%      1.000000  \n",
       "50%      1.000000  \n",
       "75%      2.000000  \n",
       "max      7.000000  "
      ]
     },
     "execution_count": 21,
     "metadata": {},
     "output_type": "execute_result"
    }
   ],
   "source": [
    "df.describe()"
   ]
  },
  {
   "cell_type": "markdown",
   "metadata": {},
   "source": [
    "VISUAL OF SURVIVAL RATE BY EACH FEATURES"
   ]
  },
  {
   "cell_type": "code",
   "execution_count": 23,
   "metadata": {},
   "outputs": [
    {
     "data": {
      "image/png": "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",
      "text/plain": [
       "<Figure size 2000x1000 with 6 Axes>"
      ]
     },
     "metadata": {},
     "output_type": "display_data"
    }
   ],
   "source": [
    "fig, axes = plt.subplots(2, 3, figsize=(20, 10))\n",
    "\n",
    "# Function to add percentage labels (with zero division check)\n",
    "def add_percentage_labels(ax, total):\n",
    "    if total == 0:  \n",
    "        return      \n",
    "    for p in ax.patches:\n",
    "        percentage = '{:.1f}%'.format(100 * p.get_height() / total)\n",
    "        x = p.get_x() + p.get_width() / 2\n",
    "        y = p.get_height()\n",
    "        ax.annotate(percentage, (x, y), ha='center', va='bottom')\n",
    "\n",
    "# Survival rate by Pclass\n",
    "sns.countplot(x='Pclass', hue='Survived', data=df, ax=axes[0, 0])\n",
    "axes[0, 0].set_title('Survival Rate by Pclass')\n",
    "for pclass in df['Pclass'].unique():\n",
    "    total = len(df[df['Pclass'] == pclass])\n",
    "    \n",
    "# Survival rate by Sex\n",
    "sns.countplot(x='Sex', hue='Survived', data=df, ax=axes[0, 1])\n",
    "axes[0, 1].set_title('Survival Rate by Sex')\n",
    "for sex in df['Sex'].unique():\n",
    "    total = len(df[df['Sex'] == sex])\n",
    "   \n",
    "# Survival rate by AgeGroup\n",
    "sns.countplot(x='AgeGroup', hue='Survived', data=df, ax=axes[0, 2])\n",
    "axes[0, 2].set_title('Survival Rate by AgeGroup')\n",
    "for age_group in df['AgeGroup'].unique():\n",
    "    total = len(df[df['AgeGroup'] == age_group])\n",
    "\n",
    "# Survival rate by FamilySize\n",
    "sns.countplot(x='FamilySize', hue='Survived', data=df, ax=axes[1, 0])\n",
    "axes[1, 0].set_title('Survival Rate by FamilySize')\n",
    "for family_size in df['FamilySize'].unique():\n",
    "    total = len(df[df['FamilySize'] == family_size])\n",
    "\n",
    "# Survival rate by Fare\n",
    "sns.countplot(x='FareGroup', hue='Survived', data=df, ax=axes[1, 1])\n",
    "axes[1, 1].set_title('Survival Rate by FareGroup')\n",
    "for fare_group in df['FareGroup'].unique():\n",
    "    total = len(df[df['FareGroup'] == fare_group])\n",
    "\n",
    "# Survival rate by Embarked Port\n",
    "sns.countplot(x='Embarked', hue='Survived', data=df, ax=axes[1, 2])\n",
    "axes[1, 2].set_title('Survival Rate by Embarked Port')\n",
    "for embarked in df['Embarked'].unique():\n",
    "    total = len(df[df['Embarked'] == embarked])\n",
    "    \n",
    "plt.tight_layout()\n",
    "plt.show()"
   ]
  },
  {
   "cell_type": "markdown",
   "metadata": {},
   "source": [
    "Insights:\n",
    "1. A significantly larger proportion of passengers in first class survived compared to second and third class.\n",
    "Absolutely! \n",
    "2. Being female significantly increased your chances of survival (consistent with the \"women and children first\" protocol).3. While the \"Adult\" category has the most survivors overall (likely because it represents the largest portion of passengers), the proportion of children surviving is higher. Being a child increased your chances of survival. Being elderly significantly decreased your chances.\n",
    "4. Passengers traveling alone or with very large families had the lowest survival rates.\n",
    "5. Paying a higher fare (which generally correlates with passenger class) increased your chances of survival.\n",
    "6. Passengers who embarked at Cherbourg (C) had the highest survival rate. The proportion of survivors from Cherbourg is notably higher.\n"
   ]
  },
  {
   "cell_type": "code",
   "execution_count": 24,
   "metadata": {},
   "outputs": [
    {
     "name": "stdout",
     "output_type": "stream",
     "text": [
      "<class 'pandas.core.frame.DataFrame'>\n",
      "RangeIndex: 891 entries, 0 to 890\n",
      "Data columns (total 11 columns):\n",
      " #   Column      Non-Null Count  Dtype   \n",
      "---  ------      --------------  -----   \n",
      " 0   Survived    891 non-null    int64   \n",
      " 1   Pclass      891 non-null    int64   \n",
      " 2   Sex         891 non-null    object  \n",
      " 3   Age         891 non-null    float64 \n",
      " 4   SibSp       891 non-null    int64   \n",
      " 5   Parch       891 non-null    int64   \n",
      " 6   Fare        891 non-null    float64 \n",
      " 7   Embarked    891 non-null    object  \n",
      " 8   AgeGroup    891 non-null    category\n",
      " 9   FamilySize  891 non-null    int64   \n",
      " 10  FareGroup   891 non-null    category\n",
      "dtypes: category(2), float64(2), int64(5), object(2)\n",
      "memory usage: 64.8+ KB\n"
     ]
    }
   ],
   "source": [
    "df.info()"
   ]
  },
  {
   "cell_type": "code",
   "execution_count": 25,
   "metadata": {},
   "outputs": [
    {
     "name": "stdout",
     "output_type": "stream",
     "text": [
      "Numerical Features: ['Fare', 'FamilySize']\n",
      "Categorical Features: ['Pclass', 'Sex', 'Embarked', 'AgeGroup', 'FareGroup']\n"
     ]
    }
   ],
   "source": [
    "# Classify numerical and categorical features\n",
    "numerical_features = ['Fare', 'FamilySize']\n",
    "categorical_features = ['Pclass', 'Sex', 'Embarked', 'AgeGroup', 'FareGroup']\n",
    "\n",
    "print(\"Numerical Features:\", numerical_features)\n",
    "print(\"Categorical Features:\", categorical_features)"
   ]
  },
  {
   "cell_type": "markdown",
   "metadata": {},
   "source": [
    "CLASSIFICATION : LOGISTIC REGRESSION"
   ]
  },
  {
   "cell_type": "code",
   "execution_count": 26,
   "metadata": {},
   "outputs": [
    {
     "name": "stdout",
     "output_type": "stream",
     "text": [
      "\n",
      "Logistic Regression:\n",
      "Accuracy: 0.7932960893854749\n",
      "              precision    recall  f1-score   support\n",
      "\n",
      "           0       0.88      0.75      0.81       105\n",
      "           1       0.71      0.85      0.77        74\n",
      "\n",
      "    accuracy                           0.79       179\n",
      "   macro avg       0.79      0.80      0.79       179\n",
      "weighted avg       0.81      0.79      0.79       179\n",
      "\n",
      "Confusion Matrix:\n",
      " [[79 26]\n",
      " [11 63]]\n"
     ]
    }
   ],
   "source": [
    "# Define the features and target\n",
    "numerical_features = ['Fare', 'FamilySize']\n",
    "categorical_features = ['Pclass', 'Sex', 'Embarked', 'AgeGroup', 'FareGroup']\n",
    "target = 'Survived'\n",
    "\n",
    "# Split the data into training and testing sets\n",
    "X = df[numerical_features + categorical_features]\n",
    "y = df[target]\n",
    "X_train, X_test, y_train, y_test = train_test_split(X, y, test_size=0.2, random_state=42)\n",
    "\n",
    "# Preprocess the data\n",
    "preprocessor = ColumnTransformer(\n",
    "    transformers=[\n",
    "        ('num', Pipeline([('scaler', StandardScaler()), ('passthrough', 'passthrough')]), numerical_features),\n",
    "        ('cat', OneHotEncoder(handle_unknown='ignore'), categorical_features)\n",
    "    ])\n",
    "\n",
    "pipeline_smote = Pipeline(steps=[\n",
    "    ('preprocessor', preprocessor),\n",
    "    ('smote', SMOTE(random_state=42)), \n",
    "    ('classifier', LogisticRegression(solver='liblinear', random_state=42))\n",
    "])\n",
    "\n",
    "pipeline_smote.fit(X_train, y_train)  \n",
    "y_pred = pipeline_smote.predict(X_test)  \n",
    "\n",
    "# Predict (probabilities and classes)\n",
    "y_pred_prob = pipeline_smote.predict_proba(X_test)[:, 1]  \n",
    "y_pred_class = pipeline_smote.predict(X_test)  \n",
    "\n",
    "# Evaluate (Classification Metrics)\n",
    "print(\"\\nLogistic Regression:\")\n",
    "accuracy = accuracy_score(y_test, y_pred_class)\n",
    "print(f'Accuracy: {accuracy}')\n",
    "\n",
    "print(classification_report(y_test, y_pred_class))\n",
    "\n",
    "cm = confusion_matrix(y_test, y_pred_class)\n",
    "print(\"Confusion Matrix:\\n\", cm)\n"
   ]
  },
  {
   "cell_type": "markdown",
   "metadata": {},
   "source": [
    "- Accuracy: Accuracy: 0.793, the model correctly predicted the survival status (survived or did not survive) for approximately 79.3% of the passengers in your test set. This is a reasonable accuracy for this type of problem.\n",
    "\n",
    "- Class 0 (Did Not Survive):\n",
    "\n",
    "Precision: 0.88: Out of all the passengers your model predicted not to survive, 88% actually did not survive.\n",
    "Recall: 0.75: Out of all the passengers who actually did not survive, your model correctly identified 75% of them.\n",
    "F1-score: 0.81: The F1-score is the harmonic mean of precision and recall. It's a balanced measure, and 0.81 is a good value.\n",
    "Support: 105: There were 105 passengers in your test set who did not survive.\n",
    "\n",
    "- Class 1 (Survived):\n",
    "\n",
    "Precision: 0.71: Out of all the passengers your model predicted to survive, 71% actually survived.\n",
    "Recall: 0.85: Out of all the passengers who actually survived, your model correctly identified 85% of them.\n",
    "F1-score: 0.77: The F1-score for the survived class is 0.77.\n",
    "Support: 74: There were 74 passengers in your test set who survived."
   ]
  },
  {
   "cell_type": "code",
   "execution_count": 27,
   "metadata": {},
   "outputs": [
    {
     "name": "stdout",
     "output_type": "stream",
     "text": [
      "\n",
      "Random Forest Classifier:\n",
      "Accuracy: 0.8435754189944135\n",
      "              precision    recall  f1-score   support\n",
      "\n",
      "           0       0.88      0.85      0.86       105\n",
      "           1       0.79      0.84      0.82        74\n",
      "\n",
      "    accuracy                           0.84       179\n",
      "   macro avg       0.84      0.84      0.84       179\n",
      "weighted avg       0.85      0.84      0.84       179\n",
      "\n",
      "Confusion Matrix:\n",
      " [[89 16]\n",
      " [12 62]]\n"
     ]
    }
   ],
   "source": [
    "#Random Forest Classifier   \n",
    "\n",
    "# Split the data into training and testing sets\n",
    "X = df[numerical_features + categorical_features]\n",
    "y = df[target]\n",
    "X_train, X_test, y_train, y_test = train_test_split(X, y, test_size=0.2, random_state=42)\n",
    "\n",
    "# Preprocess the data\n",
    "preprocessor = ColumnTransformer(\n",
    "    transformers=[\n",
    "        ('num', Pipeline([('scaler', StandardScaler()), ('passthrough', 'passthrough')]), numerical_features),\n",
    "        ('cat', OneHotEncoder(handle_unknown='ignore'), categorical_features)\n",
    "    ])\n",
    "\n",
    "# --- Pipeline with SMOTE and Random Forest ---\n",
    "pipeline_rf_smote = Pipeline(steps=[\n",
    "    ('preprocessor', preprocessor),\n",
    "    ('smote', SMOTE(random_state=42)),  # Apply SMOTE for oversampling\n",
    "    ('classifier', RandomForestClassifier(random_state=42))  # Random Forest classifier\n",
    "])\n",
    "\n",
    "# --- Train the model ---\n",
    "pipeline_rf_smote.fit(X_train, y_train)\n",
    "\n",
    "# --- Make Predictions ---\n",
    "y_pred = pipeline_rf_smote.predict(X_test)\n",
    "\n",
    "# --- Evaluate the Model ---\n",
    "print(\"\\nRandom Forest Classifier:\")\n",
    "accuracy = accuracy_score(y_test, y_pred)\n",
    "print(f'Accuracy: {accuracy}')\n",
    "\n",
    "print(classification_report(y_test, y_pred))\n",
    "\n",
    "cm = confusion_matrix(y_test, y_pred)\n",
    "print(\"Confusion Matrix:\\n\", cm)"
   ]
  },
  {
   "cell_type": "code",
   "execution_count": 28,
   "metadata": {},
   "outputs": [
    {
     "name": "stdout",
     "output_type": "stream",
     "text": [
      "\n",
      "SVM:\n",
      "Accuracy: 0.8212290502793296\n",
      "              precision    recall  f1-score   support\n",
      "\n",
      "           0       0.85      0.84      0.85       105\n",
      "           1       0.78      0.80      0.79        74\n",
      "\n",
      "    accuracy                           0.82       179\n",
      "   macro avg       0.82      0.82      0.82       179\n",
      "weighted avg       0.82      0.82      0.82       179\n",
      "\n",
      "Confusion Matrix:\n",
      " [[88 17]\n",
      " [15 59]]\n"
     ]
    }
   ],
   "source": [
    "# SVM\n",
    "pipeline_svm_smote = Pipeline(steps=[\n",
    "    ('preprocessor', preprocessor),\n",
    "    ('smote', SMOTE(random_state=42)),  # Apply SMOTE\n",
    "    ('classifier', SVC(random_state=42))  # SVM classifier\n",
    "])\n",
    "\n",
    "# --- Train the model ---\n",
    "pipeline_svm_smote.fit(X_train, y_train)\n",
    "\n",
    "# --- Make Predictions ---\n",
    "y_pred = pipeline_svm_smote.predict(X_test)\n",
    "\n",
    "# --- Evaluate the Model ---\n",
    "print(\"\\nSVM:\")\n",
    "accuracy = accuracy_score(y_test, y_pred)\n",
    "print(f'Accuracy: {accuracy}')\n",
    "\n",
    "print(classification_report(y_test, y_pred))\n",
    "\n",
    "cm = confusion_matrix(y_test, y_pred)\n",
    "print(\"Confusion Matrix:\\n\", cm)"
   ]
  },
  {
   "cell_type": "code",
   "execution_count": 29,
   "metadata": {},
   "outputs": [
    {
     "name": "stdout",
     "output_type": "stream",
     "text": [
      "\n",
      "Gradient Boosting:\n",
      "Accuracy: 0.8435754189944135\n",
      "              precision    recall  f1-score   support\n",
      "\n",
      "           0       0.88      0.85      0.86       105\n",
      "           1       0.79      0.84      0.82        74\n",
      "\n",
      "    accuracy                           0.84       179\n",
      "   macro avg       0.84      0.84      0.84       179\n",
      "weighted avg       0.85      0.84      0.84       179\n",
      "\n",
      "Confusion Matrix:\n",
      " [[89 16]\n",
      " [12 62]]\n"
     ]
    }
   ],
   "source": [
    "#Gradient Boosting Classifier\n",
    "\n",
    "pipeline_gb_smote = Pipeline(steps=[\n",
    "    ('preprocessor', preprocessor),  # Use the same preprocessor\n",
    "    ('smote', SMOTE(random_state=42)),\n",
    "    ('classifier', GradientBoostingClassifier(random_state=42))\n",
    "])\n",
    "\n",
    "pipeline_gb_smote.fit(X_train, y_train)\n",
    "y_pred_gb = pipeline_gb_smote.predict(X_test)\n",
    "\n",
    "accuracy_gb = accuracy_score(y_test, y_pred_gb)\n",
    "print(\"\\nGradient Boosting:\")\n",
    "print(f'Accuracy: {accuracy_gb}')\n",
    "print(classification_report(y_test, y_pred_gb))\n",
    "cm_gb = confusion_matrix(y_test, y_pred_gb)\n",
    "print(\"Confusion Matrix:\\n\", cm_gb)"
   ]
  },
  {
   "cell_type": "code",
   "execution_count": 30,
   "metadata": {},
   "outputs": [
    {
     "name": "stdout",
     "output_type": "stream",
     "text": [
      "\n",
      "Neural Network:\n",
      "Accuracy: 0.8156424581005587\n",
      "              precision    recall  f1-score   support\n",
      "\n",
      "           0       0.85      0.83      0.84       105\n",
      "           1       0.77      0.80      0.78        74\n",
      "\n",
      "    accuracy                           0.82       179\n",
      "   macro avg       0.81      0.81      0.81       179\n",
      "weighted avg       0.82      0.82      0.82       179\n",
      "\n",
      "Confusion Matrix:\n",
      " [[87 18]\n",
      " [15 59]]\n"
     ]
    }
   ],
   "source": [
    "# Neural Network\n",
    "pipeline_nn_smote = Pipeline(steps=[\n",
    "    ('preprocessor', preprocessor),\n",
    "    ('smote', SMOTE(random_state=42)),\n",
    "    ('classifier', MLPClassifier(random_state=42, max_iter=500, early_stopping=True))  # Increased max_iter, added early_stopping\n",
    "])\n",
    "\n",
    "pipeline_nn_smote.fit(X_train, y_train)\n",
    "y_pred_nn = pipeline_nn_smote.predict(X_test)\n",
    "\n",
    "accuracy_nn = accuracy_score(y_test, y_pred_nn)\n",
    "print(\"\\nNeural Network:\")\n",
    "print(f'Accuracy: {accuracy_nn}')\n",
    "print(classification_report(y_test, y_pred_nn))\n",
    "cm_nn = confusion_matrix(y_test, y_pred_nn)\n",
    "print(\"Confusion Matrix:\\n\", cm_nn)"
   ]
  },
  {
   "cell_type": "markdown",
   "metadata": {},
   "source": [
    "the Random Forest Classifier and Gradient Boosting classifier is the best performing. \n",
    "Highest Accuracy: they achieve highest accuracy (0.843). Accuracy represents the overall correctness of the model's predictions.\n",
    "\n",
    "Balanced Performance (Precision and Recall):  The Random Forest also exhibits a good balance between precision and recall for both classes (0 and 1).  This is important because it means the model is not only good at correctly predicting the majority class (those who didn't survive) but also reasonably good at predicting the minority class (those who survived).\n",
    "\n",
    "F1-Score: The F1-score, which combines precision and recall, is also highest for the Random Forest (around 0.84 for both classes).  This confirms its balanced performance.\n",
    "\n",
    "Confusion Matrix: The confusion matrix for the Random Forest shows a good distribution of true positives, true negatives, false positives, and false negatives.  While it still has some false negatives (predicting \"didn't survive\" when the passenger actually survived), it has fewer than the other models.\n"
   ]
  },
  {
   "cell_type": "code",
   "execution_count": 31,
   "metadata": {},
   "outputs": [
    {
     "name": "stdout",
     "output_type": "stream",
     "text": [
      "Fitting 5 folds for each of 32 candidates, totalling 160 fits\n",
      "Best Hyperparameters: {'classifier__criterion': 'entropy', 'classifier__max_depth': 10, 'classifier__min_samples_leaf': 1, 'classifier__min_samples_split': 2, 'classifier__n_estimators': 50}\n",
      "Accuracy (Best Model): 0.8491620111731844\n",
      "              precision    recall  f1-score   support\n",
      "\n",
      "           0       0.88      0.87      0.87       105\n",
      "           1       0.81      0.82      0.82        74\n",
      "\n",
      "    accuracy                           0.85       179\n",
      "   macro avg       0.84      0.85      0.84       179\n",
      "weighted avg       0.85      0.85      0.85       179\n",
      "\n",
      "Confusion Matrix:\n",
      " [[91 14]\n",
      " [13 61]]\n",
      "Cross-Validation Scores (Best Model): [0.8041958  0.81118881 0.8028169  0.79577465 0.85211268]\n",
      "Mean CV Accuracy (Best Model): 0.8132177681473456\n"
     ]
    }
   ],
   "source": [
    "# Hyperparameter Tuning with GridSearchCV\n",
    "\n",
    "param_grid = {\n",
    "    'classifier__n_estimators': [50, 100],  # Number of trees\n",
    "    'classifier__max_depth': [None, 10],      # Maximum depth of trees\n",
    "    'classifier__min_samples_split': [2, 5],   # Minimum samples to split a node\n",
    "    'classifier__min_samples_leaf': [1, 2],     # minimum samples in a leaf node\n",
    "    'classifier__criterion': ['gini', 'entropy'] # Splitting criteria\n",
    "}\n",
    "grid_search = GridSearchCV(pipeline_rf_smote, param_grid, cv=5, scoring='accuracy', n_jobs=-1, verbose=1)  # 5-fold CV, use all cores\n",
    "\n",
    "grid_search.fit(X_train, y_train)\n",
    "\n",
    "# --- Best Model and Best Parameters ---\n",
    "best_model = grid_search.best_estimator_\n",
    "best_params = grid_search.best_params_\n",
    "print(\"Best Hyperparameters:\", best_params)\n",
    "\n",
    "# --- Evaluate the Best Model on the Test Set ---\n",
    "y_pred = best_model.predict(X_test)\n",
    "\n",
    "accuracy = accuracy_score(y_test, y_pred)\n",
    "print(f'Accuracy (Best Model): {accuracy}')\n",
    "\n",
    "print(classification_report(y_test, y_pred))\n",
    "\n",
    "cm = confusion_matrix(y_test, y_pred)\n",
    "print(\"Confusion Matrix:\\n\", cm)\n",
    "\n",
    "# --- Cross-Validation Score (Optional) ---\n",
    "cv_scores = cross_val_score(best_model, X_train, y_train, cv=5, scoring='accuracy', n_jobs=-1)\n",
    "print(f\"Cross-Validation Scores (Best Model): {cv_scores}\")\n",
    "print(f\"Mean CV Accuracy (Best Model): {cv_scores.mean()}\")"
   ]
  },
  {
   "cell_type": "markdown",
   "metadata": {},
   "source": [
    "1. it chose 'entropy' as the criterion for splitting nodes, a maximum tree depth of 10, and 100 trees in the Random Forest.\n",
    "2  Accuracy of 0.849, which is a slight improvement over the previous Random Forest result. This indicates that the hyperparameter tuning was effective in finding a better configuration for the model.\n",
    "3. Precision: For class 0 (didn't survive), precision is 0.88. For class 1 (survived), it's 0.81. This means when the model predicts someone didn't survive, it's correct 88% of the time, and when it predicts someone survived, it's correct 81% of the time.\n",
    "Recall: For class 0, recall is 0.87, and for class 1, it's 0.82. This means the model correctly identifies 87% of those who actually didn't survive and 82% of those who actually did survive.\n",
    "F1-score: The F1-scores are 0.87 and 0.82 for classes 0 and 1, respectively. These are good balanced measures of precision and recall.\n",
    "4. Cross-Validation Scores (Best Model):\n",
    "[0.804, 0.811, 0.803, 0.796, 0.852]during the cross-validation process on the training set using the best hyperparameters.\n",
    "5. Mean CV Accuracy (Best Model): 0.813. An estimate of how well your tuned model is likely to perform on unseen data.  It's a good practice to compare your test set score with the mean CV accuracy; if they are significantly different, it might indicate overfitting."
   ]
  },
  {
   "cell_type": "code",
   "execution_count": 32,
   "metadata": {},
   "outputs": [],
   "source": [
    "best_model = grid_search.best_estimator_"
   ]
  },
  {
   "cell_type": "code",
   "execution_count": 33,
   "metadata": {},
   "outputs": [],
   "source": [
    "importances = best_model.named_steps['classifier'].feature_importances_"
   ]
  },
  {
   "cell_type": "code",
   "execution_count": 34,
   "metadata": {},
   "outputs": [
    {
     "data": {
      "application/vnd.microsoft.datawrangler.viewer.v0+json": {
       "columns": [
        {
         "name": "index",
         "rawType": "int64",
         "type": "integer"
        },
        {
         "name": "Survived",
         "rawType": "int64",
         "type": "integer"
        },
        {
         "name": "Pclass",
         "rawType": "int64",
         "type": "integer"
        },
        {
         "name": "Sex",
         "rawType": "object",
         "type": "string"
        },
        {
         "name": "Age",
         "rawType": "float64",
         "type": "float"
        },
        {
         "name": "SibSp",
         "rawType": "int64",
         "type": "integer"
        },
        {
         "name": "Parch",
         "rawType": "int64",
         "type": "integer"
        },
        {
         "name": "Fare",
         "rawType": "float64",
         "type": "float"
        },
        {
         "name": "Embarked",
         "rawType": "object",
         "type": "string"
        },
        {
         "name": "AgeGroup",
         "rawType": "category",
         "type": "unknown"
        },
        {
         "name": "FamilySize",
         "rawType": "int64",
         "type": "integer"
        },
        {
         "name": "FareGroup",
         "rawType": "category",
         "type": "unknown"
        }
       ],
       "conversionMethod": "pd.DataFrame",
       "ref": "1ad48bf6-f2d4-47c7-9460-7d12d6ae4665",
       "rows": [
        [
         "0",
         "0",
         "3",
         "male",
         "22.0",
         "1",
         "0",
         "7.25",
         "S",
         "Adult",
         "2",
         "Low"
        ],
        [
         "1",
         "1",
         "1",
         "female",
         "38.0",
         "1",
         "0",
         "71.2833",
         "C",
         "Adult",
         "2",
         "Very High"
        ],
        [
         "2",
         "1",
         "3",
         "female",
         "26.0",
         "0",
         "0",
         "7.925",
         "S",
         "Adult",
         "1",
         "Mid"
        ],
        [
         "3",
         "1",
         "1",
         "female",
         "35.0",
         "1",
         "0",
         "53.1",
         "S",
         "Adult",
         "2",
         "Very High"
        ],
        [
         "4",
         "0",
         "3",
         "male",
         "35.0",
         "0",
         "0",
         "8.05",
         "S",
         "Adult",
         "1",
         "Mid"
        ]
       ],
       "shape": {
        "columns": 11,
        "rows": 5
       }
      },
      "text/html": [
       "<div>\n",
       "<style scoped>\n",
       "    .dataframe tbody tr th:only-of-type {\n",
       "        vertical-align: middle;\n",
       "    }\n",
       "\n",
       "    .dataframe tbody tr th {\n",
       "        vertical-align: top;\n",
       "    }\n",
       "\n",
       "    .dataframe thead th {\n",
       "        text-align: right;\n",
       "    }\n",
       "</style>\n",
       "<table border=\"1\" class=\"dataframe\">\n",
       "  <thead>\n",
       "    <tr style=\"text-align: right;\">\n",
       "      <th></th>\n",
       "      <th>Survived</th>\n",
       "      <th>Pclass</th>\n",
       "      <th>Sex</th>\n",
       "      <th>Age</th>\n",
       "      <th>SibSp</th>\n",
       "      <th>Parch</th>\n",
       "      <th>Fare</th>\n",
       "      <th>Embarked</th>\n",
       "      <th>AgeGroup</th>\n",
       "      <th>FamilySize</th>\n",
       "      <th>FareGroup</th>\n",
       "    </tr>\n",
       "  </thead>\n",
       "  <tbody>\n",
       "    <tr>\n",
       "      <th>0</th>\n",
       "      <td>0</td>\n",
       "      <td>3</td>\n",
       "      <td>male</td>\n",
       "      <td>22.0</td>\n",
       "      <td>1</td>\n",
       "      <td>0</td>\n",
       "      <td>7.2500</td>\n",
       "      <td>S</td>\n",
       "      <td>Adult</td>\n",
       "      <td>2</td>\n",
       "      <td>Low</td>\n",
       "    </tr>\n",
       "    <tr>\n",
       "      <th>1</th>\n",
       "      <td>1</td>\n",
       "      <td>1</td>\n",
       "      <td>female</td>\n",
       "      <td>38.0</td>\n",
       "      <td>1</td>\n",
       "      <td>0</td>\n",
       "      <td>71.2833</td>\n",
       "      <td>C</td>\n",
       "      <td>Adult</td>\n",
       "      <td>2</td>\n",
       "      <td>Very High</td>\n",
       "    </tr>\n",
       "    <tr>\n",
       "      <th>2</th>\n",
       "      <td>1</td>\n",
       "      <td>3</td>\n",
       "      <td>female</td>\n",
       "      <td>26.0</td>\n",
       "      <td>0</td>\n",
       "      <td>0</td>\n",
       "      <td>7.9250</td>\n",
       "      <td>S</td>\n",
       "      <td>Adult</td>\n",
       "      <td>1</td>\n",
       "      <td>Mid</td>\n",
       "    </tr>\n",
       "    <tr>\n",
       "      <th>3</th>\n",
       "      <td>1</td>\n",
       "      <td>1</td>\n",
       "      <td>female</td>\n",
       "      <td>35.0</td>\n",
       "      <td>1</td>\n",
       "      <td>0</td>\n",
       "      <td>53.1000</td>\n",
       "      <td>S</td>\n",
       "      <td>Adult</td>\n",
       "      <td>2</td>\n",
       "      <td>Very High</td>\n",
       "    </tr>\n",
       "    <tr>\n",
       "      <th>4</th>\n",
       "      <td>0</td>\n",
       "      <td>3</td>\n",
       "      <td>male</td>\n",
       "      <td>35.0</td>\n",
       "      <td>0</td>\n",
       "      <td>0</td>\n",
       "      <td>8.0500</td>\n",
       "      <td>S</td>\n",
       "      <td>Adult</td>\n",
       "      <td>1</td>\n",
       "      <td>Mid</td>\n",
       "    </tr>\n",
       "  </tbody>\n",
       "</table>\n",
       "</div>"
      ],
      "text/plain": [
       "   Survived  Pclass     Sex   Age  SibSp  Parch     Fare Embarked AgeGroup  \\\n",
       "0         0       3    male  22.0      1      0   7.2500        S    Adult   \n",
       "1         1       1  female  38.0      1      0  71.2833        C    Adult   \n",
       "2         1       3  female  26.0      0      0   7.9250        S    Adult   \n",
       "3         1       1  female  35.0      1      0  53.1000        S    Adult   \n",
       "4         0       3    male  35.0      0      0   8.0500        S    Adult   \n",
       "\n",
       "   FamilySize  FareGroup  \n",
       "0           2        Low  \n",
       "1           2  Very High  \n",
       "2           1        Mid  \n",
       "3           2  Very High  \n",
       "4           1        Mid  "
      ]
     },
     "execution_count": 34,
     "metadata": {},
     "output_type": "execute_result"
    }
   ],
   "source": [
    "df.head()"
   ]
  },
  {
   "cell_type": "code",
   "execution_count": 35,
   "metadata": {},
   "outputs": [],
   "source": [
    "# 1. Get one-hot encoded feature names:\n",
    "onehot_features = best_model.named_steps['preprocessor'].named_transformers_['cat'].get_feature_names_out(categorical_features)\n",
    "\n",
    "# 2. Get numerical feature names (using get_feature_names_out):\n",
    "numerical_features_used = best_model.named_steps['preprocessor'].named_transformers_['num'].get_feature_names_out(numerical_features)\n",
    "\n",
    "# 3. Combine them:\n",
    "feature_names = list(numerical_features_used) + list(onehot_features)\n",
    "\n",
    "# --- Create a DataFrame for Feature Importances ---\n",
    "feature_importance_df = pd.DataFrame({'Feature': feature_names, 'Importance': importances})\n",
    "feature_importance_df = feature_importance_df.sort_values(by='Importance', ascending=False)"
   ]
  },
  {
   "cell_type": "code",
   "execution_count": 36,
   "metadata": {},
   "outputs": [
    {
     "name": "stdout",
     "output_type": "stream",
     "text": [
      "Feature Importances:\n",
      "                Feature  Importance\n",
      "0                  Fare    0.265553\n",
      "6              Sex_male    0.154777\n",
      "5            Sex_female    0.151664\n",
      "1            FamilySize    0.111760\n",
      "4              Pclass_3    0.062455\n",
      "2              Pclass_1    0.033473\n",
      "3              Pclass_2    0.030948\n",
      "10       AgeGroup_Adult    0.030610\n",
      "11       AgeGroup_Child    0.028814\n",
      "9            Embarked_S    0.024088\n",
      "7            Embarked_C    0.021955\n",
      "16  FareGroup_Very High    0.019463\n",
      "13       FareGroup_High    0.016971\n",
      "15        FareGroup_Mid    0.014815\n",
      "14        FareGroup_Low    0.014262\n",
      "8            Embarked_Q    0.011148\n",
      "12     AgeGroup_Elderly    0.007244\n"
     ]
    }
   ],
   "source": [
    "# --- Print Feature Importances ---\n",
    "print(\"Feature Importances:\")\n",
    "print(feature_importance_df)"
   ]
  },
  {
   "cell_type": "markdown",
   "metadata": {},
   "source": [
    "Socio-economic Status:  The combination of Fare and Pclass highlights the strong influence of socio-economic status on survival. Wealthier passengers had a clear advantage.\n",
    "\n",
    "Gender: The importance of Sex confirms the historical accounts of women being prioritized during the evacuation.\n",
    "\n",
    "Family:  FamilySize suggests that family dynamics played a role, although the exact nature of this influence might require further investigation.\n",
    "\n",
    "Age: While age was a factor, its importance is somewhat less than Fare and Sex.\n"
   ]
  }
